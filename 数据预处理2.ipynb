{
 "cells": [
  {
   "cell_type": "markdown",
   "metadata": {
    "papermill": {
     "duration": 0.070907,
     "end_time": "2021-11-06T11:10:02.079112",
     "exception": false,
     "start_time": "2021-11-06T11:10:02.008205",
     "status": "completed"
    },
    "tags": []
   },
   "source": [
    "### Problem Statement\n",
    "An automobile company has plans to enter new markets with their existing products (P1, P2, P3, P4 and P5). After intensive market research, they’ve deduced that the behavior of new market is similar to their existing market. \n",
    "<br><br>\n",
    "In their existing market, the sales team has classified all customers into 4 segments (A, B, C, D ). Then, they performed segmented outreach and communication for different segment of customers. This strategy has work exceptionally well for them. They plan to use the same strategy on new markets and have identified 2627 new potential customers. \n",
    "<br><br>\n",
    "We are required to help the manager to predict the right group of the new customers.<br><br>\n",
    "We can check this link: https://datahack.analyticsvidhya.com/contest/janatahack-customer-segmentation/"
   ]
  },
  {
   "cell_type": "markdown",
   "metadata": {
    "papermill": {
     "duration": 0.067506,
     "end_time": "2021-11-06T11:10:02.215616",
     "exception": false,
     "start_time": "2021-11-06T11:10:02.148110",
     "status": "completed"
    },
    "tags": []
   },
   "source": [
    "### Variables Description\n",
    "\n",
    "           \n",
    "| Variable\t            | Definition                                                        |\n",
    "|---------------------- |-------------------------------------------------------------------|\n",
    "| ID\t                | Unique ID                                                         |\n",
    "| Gender\t            | Gender of the customer                                            |\n",
    "| Ever_Married\t        | Marital status of the customer                                    |\n",
    "| Age\t                | Age of the customer                                               |\n",
    "| Graduated\t            | Is the customer a graduate?                                       |\n",
    "| Profession\t        | Profession of the customer                                        |\n",
    "| Work_Experience\t    | Work Experience in years                                          |\n",
    "| Spending_Score\t    | Spending score of the customer                                    |\n",
    "| Family_Size\t        | Number of family members for the customer(including the customer) |\n",
    "| Var_1\t                | Anonymised Category for the customer                              |\n",
    "| Segmentation(target)  | Customer Segment of the customer                                  |"
   ]
  },
  {
   "cell_type": "code",
   "execution_count": 1,
   "metadata": {
    "execution": {
     "iopub.execute_input": "2021-11-06T11:10:02.360128Z",
     "iopub.status.busy": "2021-11-06T11:10:02.358962Z",
     "iopub.status.idle": "2021-11-06T11:10:02.379651Z",
     "shell.execute_reply": "2021-11-06T11:10:02.380205Z",
     "shell.execute_reply.started": "2021-11-06T11:08:01.961958Z"
    },
    "papermill": {
     "duration": 0.094509,
     "end_time": "2021-11-06T11:10:02.380477",
     "exception": false,
     "start_time": "2021-11-06T11:10:02.285968",
     "status": "completed"
    },
    "tags": []
   },
   "outputs": [
    {
     "name": "stdout",
     "output_type": "stream",
     "text": [
      "/kaggle/input/customer/sample_submission.csv\n",
      "/kaggle/input/customer/Train.csv\n",
      "/kaggle/input/customer/Test.csv\n"
     ]
    }
   ],
   "source": [
    "# Input data files are available in the read-only \"../input/\" directory\n",
    "# For example, running this (by clicking run or pressing Shift+Enter) will list all files under the input directory\n",
    "\n",
    "import os\n",
    "for dirname, _, filenames in os.walk('/kaggle/input'):\n",
    "    for filename in filenames:\n",
    "        print(os.path.join(dirname, filename))"
   ]
  },
  {
   "cell_type": "code",
   "execution_count": 1,
   "metadata": {
    "execution": {
     "iopub.execute_input": "2021-11-06T11:10:02.524875Z",
     "iopub.status.busy": "2021-11-06T11:10:02.524006Z",
     "iopub.status.idle": "2021-11-06T11:10:03.438655Z",
     "shell.execute_reply": "2021-11-06T11:10:03.437965Z",
     "shell.execute_reply.started": "2021-11-06T11:08:02.001023Z"
    },
    "papermill": {
     "duration": 0.990024,
     "end_time": "2021-11-06T11:10:03.438802",
     "exception": false,
     "start_time": "2021-11-06T11:10:02.448778",
     "status": "completed"
    },
    "tags": []
   },
   "outputs": [],
   "source": [
    "# Import Scientific and Data Manipulation Libraries\n",
    "import pandas as pd\n",
    "import numpy as np\n",
    "import matplotlib.pyplot as plt\n",
    "import seaborn as sns\n",
    "sns.set_style('darkgrid')\n",
    "%matplotlib inline\n",
    "# to increase no. of rows and column visibility in outputs\n",
    "pd.set_option('display.max_rows', 500)\n",
    "pd.set_option('display.max_columns', 500)\n",
    "pd.set_option('display.width', 1000)"
   ]
  },
  {
   "cell_type": "code",
   "execution_count": 2,
   "metadata": {
    "execution": {
     "iopub.execute_input": "2021-11-06T11:10:03.579218Z",
     "iopub.status.busy": "2021-11-06T11:10:03.578580Z",
     "iopub.status.idle": "2021-11-06T11:10:03.625699Z",
     "shell.execute_reply": "2021-11-06T11:10:03.626236Z",
     "shell.execute_reply.started": "2021-11-06T11:08:02.978485Z"
    },
    "papermill": {
     "duration": 0.120078,
     "end_time": "2021-11-06T11:10:03.626409",
     "exception": false,
     "start_time": "2021-11-06T11:10:03.506331",
     "status": "completed"
    },
    "tags": []
   },
   "outputs": [],
   "source": [
    "# Load data \n",
    "\n",
    "train = pd.read_csv('Train.csv')\n",
    "test = pd.read_csv('Test.csv')\n",
    "sub = pd.read_csv('sample_submission.csv')"
   ]
  },
  {
   "cell_type": "markdown",
   "metadata": {
    "papermill": {
     "duration": 0.068608,
     "end_time": "2021-11-06T11:10:03.763024",
     "exception": false,
     "start_time": "2021-11-06T11:10:03.694416",
     "status": "completed"
    },
    "tags": []
   },
   "source": [
    "#### Training data"
   ]
  },
  {
   "cell_type": "code",
   "execution_count": 3,
   "metadata": {
    "execution": {
     "iopub.execute_input": "2021-11-06T11:10:03.902659Z",
     "iopub.status.busy": "2021-11-06T11:10:03.902028Z",
     "iopub.status.idle": "2021-11-06T11:10:03.927072Z",
     "shell.execute_reply": "2021-11-06T11:10:03.926572Z",
     "shell.execute_reply.started": "2021-11-06T11:08:03.039675Z"
    },
    "papermill": {
     "duration": 0.095694,
     "end_time": "2021-11-06T11:10:03.927200",
     "exception": false,
     "start_time": "2021-11-06T11:10:03.831506",
     "status": "completed"
    },
    "tags": []
   },
   "outputs": [
    {
     "data": {
      "text/html": [
       "<div>\n",
       "<style scoped>\n",
       "    .dataframe tbody tr th:only-of-type {\n",
       "        vertical-align: middle;\n",
       "    }\n",
       "\n",
       "    .dataframe tbody tr th {\n",
       "        vertical-align: top;\n",
       "    }\n",
       "\n",
       "    .dataframe thead th {\n",
       "        text-align: right;\n",
       "    }\n",
       "</style>\n",
       "<table border=\"1\" class=\"dataframe\">\n",
       "  <thead>\n",
       "    <tr style=\"text-align: right;\">\n",
       "      <th></th>\n",
       "      <th>ID</th>\n",
       "      <th>Gender</th>\n",
       "      <th>Ever_Married</th>\n",
       "      <th>Age</th>\n",
       "      <th>Graduated</th>\n",
       "      <th>Profession</th>\n",
       "      <th>Work_Experience</th>\n",
       "      <th>Spending_Score</th>\n",
       "      <th>Family_Size</th>\n",
       "      <th>Var_1</th>\n",
       "      <th>Segmentation</th>\n",
       "    </tr>\n",
       "  </thead>\n",
       "  <tbody>\n",
       "    <tr>\n",
       "      <th>0</th>\n",
       "      <td>462809</td>\n",
       "      <td>Male</td>\n",
       "      <td>No</td>\n",
       "      <td>22</td>\n",
       "      <td>No</td>\n",
       "      <td>Healthcare</td>\n",
       "      <td>1.0</td>\n",
       "      <td>Low</td>\n",
       "      <td>4.0</td>\n",
       "      <td>Cat_4</td>\n",
       "      <td>D</td>\n",
       "    </tr>\n",
       "    <tr>\n",
       "      <th>1</th>\n",
       "      <td>462643</td>\n",
       "      <td>Female</td>\n",
       "      <td>Yes</td>\n",
       "      <td>38</td>\n",
       "      <td>Yes</td>\n",
       "      <td>Engineer</td>\n",
       "      <td>NaN</td>\n",
       "      <td>Average</td>\n",
       "      <td>3.0</td>\n",
       "      <td>Cat_4</td>\n",
       "      <td>A</td>\n",
       "    </tr>\n",
       "    <tr>\n",
       "      <th>2</th>\n",
       "      <td>466315</td>\n",
       "      <td>Female</td>\n",
       "      <td>Yes</td>\n",
       "      <td>67</td>\n",
       "      <td>Yes</td>\n",
       "      <td>Engineer</td>\n",
       "      <td>1.0</td>\n",
       "      <td>Low</td>\n",
       "      <td>1.0</td>\n",
       "      <td>Cat_6</td>\n",
       "      <td>B</td>\n",
       "    </tr>\n",
       "    <tr>\n",
       "      <th>3</th>\n",
       "      <td>461735</td>\n",
       "      <td>Male</td>\n",
       "      <td>Yes</td>\n",
       "      <td>67</td>\n",
       "      <td>Yes</td>\n",
       "      <td>Lawyer</td>\n",
       "      <td>0.0</td>\n",
       "      <td>High</td>\n",
       "      <td>2.0</td>\n",
       "      <td>Cat_6</td>\n",
       "      <td>B</td>\n",
       "    </tr>\n",
       "    <tr>\n",
       "      <th>4</th>\n",
       "      <td>462669</td>\n",
       "      <td>Female</td>\n",
       "      <td>Yes</td>\n",
       "      <td>40</td>\n",
       "      <td>Yes</td>\n",
       "      <td>Entertainment</td>\n",
       "      <td>NaN</td>\n",
       "      <td>High</td>\n",
       "      <td>6.0</td>\n",
       "      <td>Cat_6</td>\n",
       "      <td>A</td>\n",
       "    </tr>\n",
       "  </tbody>\n",
       "</table>\n",
       "</div>"
      ],
      "text/plain": [
       "       ID  Gender Ever_Married  Age Graduated     Profession  Work_Experience Spending_Score  Family_Size  Var_1 Segmentation\n",
       "0  462809    Male           No   22        No     Healthcare              1.0            Low          4.0  Cat_4            D\n",
       "1  462643  Female          Yes   38       Yes       Engineer              NaN        Average          3.0  Cat_4            A\n",
       "2  466315  Female          Yes   67       Yes       Engineer              1.0            Low          1.0  Cat_6            B\n",
       "3  461735    Male          Yes   67       Yes         Lawyer              0.0           High          2.0  Cat_6            B\n",
       "4  462669  Female          Yes   40       Yes  Entertainment              NaN           High          6.0  Cat_6            A"
      ]
     },
     "execution_count": 3,
     "metadata": {},
     "output_type": "execute_result"
    }
   ],
   "source": [
    "train.head()"
   ]
  },
  {
   "cell_type": "code",
   "execution_count": 4,
   "metadata": {
    "execution": {
     "iopub.execute_input": "2021-11-06T11:10:04.070821Z",
     "iopub.status.busy": "2021-11-06T11:10:04.070146Z",
     "iopub.status.idle": "2021-11-06T11:10:04.073926Z",
     "shell.execute_reply": "2021-11-06T11:10:04.073286Z",
     "shell.execute_reply.started": "2021-11-06T11:08:03.075227Z"
    },
    "papermill": {
     "duration": 0.078253,
     "end_time": "2021-11-06T11:10:04.074072",
     "exception": false,
     "start_time": "2021-11-06T11:10:03.995819",
     "status": "completed"
    },
    "tags": []
   },
   "outputs": [
    {
     "data": {
      "text/plain": [
       "(8068, 11)"
      ]
     },
     "execution_count": 4,
     "metadata": {},
     "output_type": "execute_result"
    }
   ],
   "source": [
    "train.shape"
   ]
  },
  {
   "cell_type": "code",
   "execution_count": 5,
   "metadata": {
    "execution": {
     "iopub.execute_input": "2021-11-06T11:10:04.226104Z",
     "iopub.status.busy": "2021-11-06T11:10:04.225348Z",
     "iopub.status.idle": "2021-11-06T11:10:04.243895Z",
     "shell.execute_reply": "2021-11-06T11:10:04.244374Z",
     "shell.execute_reply.started": "2021-11-06T11:08:03.085162Z"
    },
    "papermill": {
     "duration": 0.100955,
     "end_time": "2021-11-06T11:10:04.244595",
     "exception": false,
     "start_time": "2021-11-06T11:10:04.143640",
     "status": "completed"
    },
    "tags": []
   },
   "outputs": [
    {
     "name": "stdout",
     "output_type": "stream",
     "text": [
      "<class 'pandas.core.frame.DataFrame'>\n",
      "RangeIndex: 8068 entries, 0 to 8067\n",
      "Data columns (total 11 columns):\n",
      " #   Column           Non-Null Count  Dtype  \n",
      "---  ------           --------------  -----  \n",
      " 0   ID               8068 non-null   int64  \n",
      " 1   Gender           8068 non-null   object \n",
      " 2   Ever_Married     7928 non-null   object \n",
      " 3   Age              8068 non-null   int64  \n",
      " 4   Graduated        7990 non-null   object \n",
      " 5   Profession       7944 non-null   object \n",
      " 6   Work_Experience  7239 non-null   float64\n",
      " 7   Spending_Score   8068 non-null   object \n",
      " 8   Family_Size      7733 non-null   float64\n",
      " 9   Var_1            7992 non-null   object \n",
      " 10  Segmentation     8068 non-null   object \n",
      "dtypes: float64(2), int64(2), object(7)\n",
      "memory usage: 693.5+ KB\n"
     ]
    }
   ],
   "source": [
    "# Looking for train dataset informations\n",
    "train.info()"
   ]
  },
  {
   "cell_type": "markdown",
   "metadata": {
    "papermill": {
     "duration": 0.068047,
     "end_time": "2021-11-06T11:10:04.381079",
     "exception": false,
     "start_time": "2021-11-06T11:10:04.313032",
     "status": "completed"
    },
    "tags": []
   },
   "source": [
    "We have 7 categoricals variables and 3 numericals variables in our training dataset"
   ]
  },
  {
   "cell_type": "markdown",
   "metadata": {
    "papermill": {
     "duration": 0.068257,
     "end_time": "2021-11-06T11:10:04.519759",
     "exception": false,
     "start_time": "2021-11-06T11:10:04.451502",
     "status": "completed"
    },
    "tags": []
   },
   "source": [
    "#### Testing data"
   ]
  },
  {
   "cell_type": "code",
   "execution_count": 6,
   "metadata": {
    "execution": {
     "iopub.execute_input": "2021-11-06T11:10:04.661786Z",
     "iopub.status.busy": "2021-11-06T11:10:04.660840Z",
     "iopub.status.idle": "2021-11-06T11:10:04.666040Z",
     "shell.execute_reply": "2021-11-06T11:10:04.666629Z",
     "shell.execute_reply.started": "2021-11-06T11:08:03.128453Z"
    },
    "papermill": {
     "duration": 0.078438,
     "end_time": "2021-11-06T11:10:04.666792",
     "exception": false,
     "start_time": "2021-11-06T11:10:04.588354",
     "status": "completed"
    },
    "tags": []
   },
   "outputs": [
    {
     "data": {
      "text/plain": [
       "(2627, 10)"
      ]
     },
     "execution_count": 6,
     "metadata": {},
     "output_type": "execute_result"
    }
   ],
   "source": [
    "test.shape"
   ]
  },
  {
   "cell_type": "code",
   "execution_count": 7,
   "metadata": {
    "execution": {
     "iopub.execute_input": "2021-11-06T11:10:04.810914Z",
     "iopub.status.busy": "2021-11-06T11:10:04.809979Z",
     "iopub.status.idle": "2021-11-06T11:10:04.824353Z",
     "shell.execute_reply": "2021-11-06T11:10:04.825422Z",
     "shell.execute_reply.started": "2021-11-06T11:08:03.137387Z"
    },
    "papermill": {
     "duration": 0.089798,
     "end_time": "2021-11-06T11:10:04.825890",
     "exception": false,
     "start_time": "2021-11-06T11:10:04.736092",
     "status": "completed"
    },
    "tags": []
   },
   "outputs": [
    {
     "name": "stdout",
     "output_type": "stream",
     "text": [
      "<class 'pandas.core.frame.DataFrame'>\n",
      "RangeIndex: 2627 entries, 0 to 2626\n",
      "Data columns (total 10 columns):\n",
      " #   Column           Non-Null Count  Dtype  \n",
      "---  ------           --------------  -----  \n",
      " 0   ID               2627 non-null   int64  \n",
      " 1   Gender           2627 non-null   object \n",
      " 2   Ever_Married     2577 non-null   object \n",
      " 3   Age              2627 non-null   int64  \n",
      " 4   Graduated        2603 non-null   object \n",
      " 5   Profession       2589 non-null   object \n",
      " 6   Work_Experience  2358 non-null   float64\n",
      " 7   Spending_Score   2627 non-null   object \n",
      " 8   Family_Size      2514 non-null   float64\n",
      " 9   Var_1            2595 non-null   object \n",
      "dtypes: float64(2), int64(2), object(6)\n",
      "memory usage: 205.4+ KB\n"
     ]
    }
   ],
   "source": [
    "# Looking for test dataset informations\n",
    "test.info()"
   ]
  },
  {
   "cell_type": "markdown",
   "metadata": {
    "papermill": {
     "duration": 0.069666,
     "end_time": "2021-11-06T11:10:04.968518",
     "exception": false,
     "start_time": "2021-11-06T11:10:04.898852",
     "status": "completed"
    },
    "tags": []
   },
   "source": [
    "# EDA(Exploratory Data Analysis) and Vizualisation"
   ]
  },
  {
   "cell_type": "markdown",
   "metadata": {
    "papermill": {
     "duration": 0.068859,
     "end_time": "2021-11-06T11:10:05.107188",
     "exception": false,
     "start_time": "2021-11-06T11:10:05.038329",
     "status": "completed"
    },
    "tags": []
   },
   "source": [
    "## Segmentation"
   ]
  },
  {
   "cell_type": "code",
   "execution_count": 8,
   "metadata": {
    "execution": {
     "iopub.execute_input": "2021-11-06T11:10:05.250080Z",
     "iopub.status.busy": "2021-11-06T11:10:05.248751Z",
     "iopub.status.idle": "2021-11-06T11:10:05.257587Z",
     "shell.execute_reply": "2021-11-06T11:10:05.257085Z",
     "shell.execute_reply.started": "2021-11-06T11:08:03.161333Z"
    },
    "papermill": {
     "duration": 0.081132,
     "end_time": "2021-11-06T11:10:05.257726",
     "exception": false,
     "start_time": "2021-11-06T11:10:05.176594",
     "status": "completed"
    },
    "tags": []
   },
   "outputs": [
    {
     "name": "stdout",
     "output_type": "stream",
     "text": [
      "Count of each category of segmentation\n",
      " D    0.281111\n",
      "A    0.244422\n",
      "C    0.244175\n",
      "B    0.230293\n",
      "Name: Segmentation, dtype: float64\n"
     ]
    }
   ],
   "source": [
    "print('Count of each category of segmentation\\n',train.Segmentation.value_counts(normalize=True))"
   ]
  },
  {
   "cell_type": "markdown",
   "metadata": {
    "papermill": {
     "duration": 0.069251,
     "end_time": "2021-11-06T11:10:05.396739",
     "exception": false,
     "start_time": "2021-11-06T11:10:05.327488",
     "status": "completed"
    },
    "tags": []
   },
   "source": [
    "### Check for the imbalance of train "
   ]
  },
  {
   "cell_type": "code",
   "execution_count": 9,
   "metadata": {
    "execution": {
     "iopub.execute_input": "2021-11-06T11:10:05.540805Z",
     "iopub.status.busy": "2021-11-06T11:10:05.539852Z",
     "iopub.status.idle": "2021-11-06T11:10:05.741629Z",
     "shell.execute_reply": "2021-11-06T11:10:05.742704Z",
     "shell.execute_reply.started": "2021-11-06T11:08:03.173538Z"
    },
    "papermill": {
     "duration": 0.2762,
     "end_time": "2021-11-06T11:10:05.742909",
     "exception": false,
     "start_time": "2021-11-06T11:10:05.466709",
     "status": "completed"
    },
    "tags": []
   },
   "outputs": [
    {
     "name": "stderr",
     "output_type": "stream",
     "text": [
      "/Users/MC/opt/anaconda3/lib/python3.8/site-packages/seaborn/_decorators.py:36: FutureWarning: Pass the following variable as a keyword arg: x. From version 0.12, the only valid positional argument will be `data`, and passing other arguments without an explicit keyword will result in an error or misinterpretation.\n",
      "  warnings.warn(\n"
     ]
    },
    {
     "data": {
      "text/plain": [
       "<AxesSubplot:xlabel='Segmentation', ylabel='count'>"
      ]
     },
     "execution_count": 9,
     "metadata": {},
     "output_type": "execute_result"
    },
    {
     "data": {
      "image/png": "[encoded data removed]",
      "text/plain": [
       "<Figure size 432x288 with 1 Axes>"
      ]
     },
     "metadata": {
      "needs_background": "light"
     },
     "output_type": "display_data"
    }
   ],
   "source": [
    "import seaborn as sns\n",
    "sns.countplot(train['Segmentation'], order=['A','B','C','D'])"
   ]
  },
  {
   "cell_type": "markdown",
   "metadata": {
    "papermill": {
     "duration": 0.072212,
     "end_time": "2021-11-06T11:10:05.888490",
     "exception": false,
     "start_time": "2021-11-06T11:10:05.816278",
     "status": "completed"
    },
    "tags": []
   },
   "source": [
    "### Finding and Removing Duplicate Rows from the train and test datasets if present."
   ]
  },
  {
   "cell_type": "code",
   "execution_count": 10,
   "metadata": {
    "execution": {
     "iopub.execute_input": "2021-11-06T11:10:06.036579Z",
     "iopub.status.busy": "2021-11-06T11:10:06.035811Z",
     "iopub.status.idle": "2021-11-06T11:10:06.054002Z",
     "shell.execute_reply": "2021-11-06T11:10:06.053222Z",
     "shell.execute_reply.started": "2021-11-06T11:08:03.448354Z"
    },
    "papermill": {
     "duration": 0.094477,
     "end_time": "2021-11-06T11:10:06.054208",
     "exception": false,
     "start_time": "2021-11-06T11:10:05.959731",
     "status": "completed"
    },
    "tags": []
   },
   "outputs": [
    {
     "name": "stdout",
     "output_type": "stream",
     "text": [
      "Duplicated value(s) in our train dataset :  0\n",
      "Duplicated value(s) in our test dataset :  0\n"
     ]
    }
   ],
   "source": [
    "# Check for duplicate \n",
    "print('Duplicated value(s) in our train dataset : ', train.duplicated().sum())\n",
    "print('Duplicated value(s) in our test dataset : ', test.duplicated().sum())"
   ]
  },
  {
   "cell_type": "markdown",
   "metadata": {
    "papermill": {
     "duration": 0.07283,
     "end_time": "2021-11-06T11:10:06.202651",
     "exception": false,
     "start_time": "2021-11-06T11:10:06.129821",
     "status": "completed"
    },
    "tags": []
   },
   "source": [
    "### Checking for missing values"
   ]
  },
  {
   "cell_type": "code",
   "execution_count": 11,
   "metadata": {
    "execution": {
     "iopub.execute_input": "2021-11-06T11:10:06.351256Z",
     "iopub.status.busy": "2021-11-06T11:10:06.350635Z",
     "iopub.status.idle": "2021-11-06T11:10:06.365508Z",
     "shell.execute_reply": "2021-11-06T11:10:06.364997Z",
     "shell.execute_reply.started": "2021-11-06T11:08:03.472140Z"
    },
    "papermill": {
     "duration": 0.090536,
     "end_time": "2021-11-06T11:10:06.365684",
     "exception": false,
     "start_time": "2021-11-06T11:10:06.275148",
     "status": "completed"
    },
    "tags": []
   },
   "outputs": [
    {
     "data": {
      "text/plain": [
       "ID                   0\n",
       "Gender               0\n",
       "Ever_Married       140\n",
       "Age                  0\n",
       "Graduated           78\n",
       "Profession         124\n",
       "Work_Experience    829\n",
       "Spending_Score       0\n",
       "Family_Size        335\n",
       "Var_1               76\n",
       "Segmentation         0\n",
       "dtype: int64"
      ]
     },
     "execution_count": 11,
     "metadata": {},
     "output_type": "execute_result"
    }
   ],
   "source": [
    "train.isnull().sum()"
   ]
  },
  {
   "cell_type": "markdown",
   "metadata": {
    "papermill": {
     "duration": 0.071638,
     "end_time": "2021-11-06T11:10:06.509374",
     "exception": false,
     "start_time": "2021-11-06T11:10:06.437736",
     "status": "completed"
    },
    "tags": []
   },
   "source": [
    "## Cleaning or filling missing data and creation of some new attributes based upon given data/domain knowledge/prior experience."
   ]
  },
  {
   "cell_type": "markdown",
   "metadata": {
    "papermill": {
     "duration": 0.071506,
     "end_time": "2021-11-06T11:10:06.652614",
     "exception": false,
     "start_time": "2021-11-06T11:10:06.581108",
     "status": "completed"
    },
    "tags": []
   },
   "source": [
    "### Missing-Data-Techniques\n",
    "\n",
    "CCA- Complete case analysis, in this technique we drops the NAN values.\n",
    "\n",
    "3M- Mean,Median and Mode , in this technique we use these Ms for imputation\n",
    "\n",
    "End tail imputation - we use statistical method to impute missing values\n",
    "\n",
    "Missing tag imputation - here we use tags to impute the values\n",
    "\n",
    "Random-sample imputation - here we take random sample of dame size as of our missing values"
   ]
  },
  {
   "cell_type": "markdown",
   "metadata": {
    "papermill": {
     "duration": 0.072383,
     "end_time": "2021-11-06T11:10:06.796497",
     "exception": false,
     "start_time": "2021-11-06T11:10:06.724114",
     "status": "completed"
    },
    "tags": []
   },
   "source": [
    "## Var_1"
   ]
  },
  {
   "cell_type": "code",
   "execution_count": 12,
   "metadata": {
    "execution": {
     "iopub.execute_input": "2021-11-06T11:10:06.948512Z",
     "iopub.status.busy": "2021-11-06T11:10:06.947859Z",
     "iopub.status.idle": "2021-11-06T11:10:06.951578Z",
     "shell.execute_reply": "2021-11-06T11:10:06.952757Z",
     "shell.execute_reply.started": "2021-11-06T11:08:03.488004Z"
    },
    "papermill": {
     "duration": 0.083983,
     "end_time": "2021-11-06T11:10:06.953027",
     "exception": false,
     "start_time": "2021-11-06T11:10:06.869044",
     "status": "completed"
    },
    "tags": []
   },
   "outputs": [
    {
     "name": "stdout",
     "output_type": "stream",
     "text": [
      "The count of each category\n",
      " Cat_6    5238\n",
      "Cat_4    1089\n",
      "Cat_3     822\n",
      "Cat_2     422\n",
      "Cat_7     203\n",
      "Cat_1     133\n",
      "Cat_5      85\n",
      "Name: Var_1, dtype: int64\n"
     ]
    }
   ],
   "source": [
    "print('The count of each category\\n',train.Var_1.value_counts())"
   ]
  },
  {
   "cell_type": "code",
   "execution_count": 13,
   "metadata": {
    "execution": {
     "iopub.execute_input": "2021-11-06T11:10:07.108499Z",
     "iopub.status.busy": "2021-11-06T11:10:07.107624Z",
     "iopub.status.idle": "2021-11-06T11:10:07.110900Z",
     "shell.execute_reply": "2021-11-06T11:10:07.111498Z",
     "shell.execute_reply.started": "2021-11-06T11:08:03.501541Z"
    },
    "papermill": {
     "duration": 0.083405,
     "end_time": "2021-11-06T11:10:07.111680",
     "exception": false,
     "start_time": "2021-11-06T11:10:07.028275",
     "status": "completed"
    },
    "tags": []
   },
   "outputs": [
    {
     "data": {
      "text/plain": [
       "76"
      ]
     },
     "execution_count": 13,
     "metadata": {},
     "output_type": "execute_result"
    }
   ],
   "source": [
    "# Checking for null values\n",
    "train.Var_1.isnull().sum()"
   ]
  },
  {
   "cell_type": "code",
   "execution_count": 14,
   "metadata": {
    "execution": {
     "iopub.execute_input": "2021-11-06T11:10:07.262441Z",
     "iopub.status.busy": "2021-11-06T11:10:07.261471Z",
     "iopub.status.idle": "2021-11-06T11:10:07.268761Z",
     "shell.execute_reply": "2021-11-06T11:10:07.269296Z",
     "shell.execute_reply.started": "2021-11-06T11:08:03.517846Z"
    },
    "papermill": {
     "duration": 0.083177,
     "end_time": "2021-11-06T11:10:07.269463",
     "exception": false,
     "start_time": "2021-11-06T11:10:07.186286",
     "status": "completed"
    },
    "tags": []
   },
   "outputs": [],
   "source": [
    "train['Var_1'].fillna(train['Var_1'].mode()[0], inplace=True)"
   ]
  },
  {
   "cell_type": "code",
   "execution_count": 15,
   "metadata": {
    "execution": {
     "iopub.execute_input": "2021-11-06T11:10:07.417994Z",
     "iopub.status.busy": "2021-11-06T11:10:07.417053Z",
     "iopub.status.idle": "2021-11-06T11:10:08.115120Z",
     "shell.execute_reply": "2021-11-06T11:10:08.114611Z",
     "shell.execute_reply.started": "2021-11-06T11:08:03.539464Z"
    },
    "papermill": {
     "duration": 0.773004,
     "end_time": "2021-11-06T11:10:08.115251",
     "exception": false,
     "start_time": "2021-11-06T11:10:07.342247",
     "status": "completed"
    },
    "tags": []
   },
   "outputs": [
    {
     "data": {
      "image/png": "[encoded data removed]",
      "text/plain": [
       "<Figure size 1080x288 with 2 Axes>"
      ]
     },
     "metadata": {
      "needs_background": "light"
     },
     "output_type": "display_data"
    }
   ],
   "source": [
    "# Counting Var_1 in each segment\n",
    "ax1 = train.groupby([\"Segmentation\"])[\"Var_1\"].value_counts().unstack().round(3)\n",
    "\n",
    "# Percentage of category of Var_1 in each segment\n",
    "ax2 = train.pivot_table(columns='Var_1',index='Segmentation',values='ID',aggfunc='count')\n",
    "ax2 = ax2.div(ax2.sum(axis=1), axis = 0).round(2)\n",
    "\n",
    "#count plot\n",
    "fig, ax = plt.subplots(1,2)\n",
    "ax1.plot(kind=\"bar\",ax = ax[0],figsize = (15,4))\n",
    "ax[0].set_xticklabels(labels = ['A','B','C','D'],rotation = 0)\n",
    "ax[0].set_title(str(ax1))\n",
    "\n",
    "#stacked bars\n",
    "ax2.plot(kind=\"bar\",stacked = True,ax = ax[1],figsize = (15,4))\n",
    "ax[1].set_xticklabels(labels = ['A','B','C','D'],rotation = 0)\n",
    "ax[1].set_title(str(ax2))\n",
    "plt.show()"
   ]
  },
  {
   "cell_type": "markdown",
   "metadata": {
    "papermill": {
     "duration": 0.073604,
     "end_time": "2021-11-06T11:10:08.263718",
     "exception": false,
     "start_time": "2021-11-06T11:10:08.190114",
     "status": "completed"
    },
    "tags": []
   },
   "source": [
    "In each of the segment the count of cat_6 or proportion of cat_6 is very high i.e. most of the entries in the given data belongs to cat_6.\n",
    "Cat_6 Cat_4 Cat_3 Cat_2 are the most important labels"
   ]
  },
  {
   "cell_type": "markdown",
   "metadata": {
    "papermill": {
     "duration": 0.073149,
     "end_time": "2021-11-06T11:10:08.411035",
     "exception": false,
     "start_time": "2021-11-06T11:10:08.337886",
     "status": "completed"
    },
    "tags": []
   },
   "source": [
    "## Gender"
   ]
  },
  {
   "cell_type": "code",
   "execution_count": 16,
   "metadata": {
    "execution": {
     "iopub.execute_input": "2021-11-06T11:10:08.562091Z",
     "iopub.status.busy": "2021-11-06T11:10:08.561128Z",
     "iopub.status.idle": "2021-11-06T11:10:08.569672Z",
     "shell.execute_reply": "2021-11-06T11:10:08.569156Z",
     "shell.execute_reply.started": "2021-11-06T11:08:04.285956Z"
    },
    "papermill": {
     "duration": 0.085166,
     "end_time": "2021-11-06T11:10:08.569813",
     "exception": false,
     "start_time": "2021-11-06T11:10:08.484647",
     "status": "completed"
    },
    "tags": []
   },
   "outputs": [
    {
     "name": "stdout",
     "output_type": "stream",
     "text": [
      "The count of gender\n",
      " Male      4417\n",
      "Female    3651\n",
      "Name: Gender, dtype: int64\n"
     ]
    }
   ],
   "source": [
    "print('The count of gender\\n',train.Gender.value_counts())"
   ]
  },
  {
   "cell_type": "code",
   "execution_count": 17,
   "metadata": {
    "execution": {
     "iopub.execute_input": "2021-11-06T11:10:08.728085Z",
     "iopub.status.busy": "2021-11-06T11:10:08.727383Z",
     "iopub.status.idle": "2021-11-06T11:10:09.312457Z",
     "shell.execute_reply": "2021-11-06T11:10:09.311798Z",
     "shell.execute_reply.started": "2021-11-06T11:08:04.295788Z"
    },
    "papermill": {
     "duration": 0.668834,
     "end_time": "2021-11-06T11:10:09.312618",
     "exception": false,
     "start_time": "2021-11-06T11:10:08.643784",
     "status": "completed"
    },
    "tags": []
   },
   "outputs": [
    {
     "data": {
      "image/png": "[encoded data removed]",
      "text/plain": [
       "<Figure size 1080x288 with 2 Axes>"
      ]
     },
     "metadata": {
      "needs_background": "light"
     },
     "output_type": "display_data"
    }
   ],
   "source": [
    "# Counting male-female in each segment\n",
    "ax1 = train.groupby([\"Segmentation\"])[\"Gender\"].value_counts().unstack().round(3)\n",
    "\n",
    "# Percentage of male-female in each segment\n",
    "ax2 = train.pivot_table(columns='Gender',index='Segmentation',values='ID',aggfunc='count')\n",
    "ax2 = ax2.div(ax2.sum(axis=1), axis = 0).round(2)\n",
    "\n",
    "#count plot\n",
    "fig, ax = plt.subplots(1,2)\n",
    "ax1.plot(kind=\"bar\",ax = ax[0],figsize = (15,4))\n",
    "ax[0].set_xticklabels(labels = ['A','B','C','D'],rotation = 0)\n",
    "ax[0].set_title(str(ax1))\n",
    "\n",
    "#stacked bars\n",
    "ax2.plot(kind=\"bar\",stacked = True,ax = ax[1],figsize = (15,4))\n",
    "ax[1].set_xticklabels(labels = ['A','B','C','D'],rotation = 0)\n",
    "ax[1].set_title(str(ax2))\n",
    "plt.show()"
   ]
  },
  {
   "cell_type": "markdown",
   "metadata": {
    "papermill": {
     "duration": 0.077273,
     "end_time": "2021-11-06T11:10:09.466733",
     "exception": false,
     "start_time": "2021-11-06T11:10:09.389460",
     "status": "completed"
    },
    "tags": []
   },
   "source": [
    "All the 4 segments have around same number of male-female distribution. In all segment male are more than female. <br> \n",
    "But segment D has highest male percentage as compared to other segments."
   ]
  },
  {
   "cell_type": "markdown",
   "metadata": {
    "papermill": {
     "duration": 0.081152,
     "end_time": "2021-11-06T11:10:09.626473",
     "exception": false,
     "start_time": "2021-11-06T11:10:09.545321",
     "status": "completed"
    },
    "tags": []
   },
   "source": [
    "## Ever Married"
   ]
  },
  {
   "cell_type": "code",
   "execution_count": 18,
   "metadata": {
    "execution": {
     "iopub.execute_input": "2021-11-06T11:10:09.781116Z",
     "iopub.status.busy": "2021-11-06T11:10:09.780382Z",
     "iopub.status.idle": "2021-11-06T11:10:09.787650Z",
     "shell.execute_reply": "2021-11-06T11:10:09.787120Z",
     "shell.execute_reply.started": "2021-11-06T11:08:04.959268Z"
    },
    "papermill": {
     "duration": 0.085656,
     "end_time": "2021-11-06T11:10:09.787794",
     "exception": false,
     "start_time": "2021-11-06T11:10:09.702138",
     "status": "completed"
    },
    "tags": []
   },
   "outputs": [
    {
     "name": "stdout",
     "output_type": "stream",
     "text": [
      "Count of married vs not married\n",
      " Yes    4643\n",
      "No     3285\n",
      "Name: Ever_Married, dtype: int64\n"
     ]
    }
   ],
   "source": [
    "print('Count of married vs not married\\n',train.Ever_Married.value_counts())"
   ]
  },
  {
   "cell_type": "code",
   "execution_count": 19,
   "metadata": {
    "execution": {
     "iopub.execute_input": "2021-11-06T11:10:09.945701Z",
     "iopub.status.busy": "2021-11-06T11:10:09.945004Z",
     "iopub.status.idle": "2021-11-06T11:10:09.951008Z",
     "shell.execute_reply": "2021-11-06T11:10:09.951518Z",
     "shell.execute_reply.started": "2021-11-06T11:08:04.969541Z"
    },
    "papermill": {
     "duration": 0.085981,
     "end_time": "2021-11-06T11:10:09.951721",
     "exception": false,
     "start_time": "2021-11-06T11:10:09.865740",
     "status": "completed"
    },
    "tags": []
   },
   "outputs": [
    {
     "data": {
      "text/plain": [
       "140"
      ]
     },
     "execution_count": 19,
     "metadata": {},
     "output_type": "execute_result"
    }
   ],
   "source": [
    "# Checking the count of missing values\n",
    "train.Ever_Married.isnull().sum()"
   ]
  },
  {
   "cell_type": "code",
   "execution_count": 20,
   "metadata": {
    "execution": {
     "iopub.execute_input": "2021-11-06T11:10:10.112781Z",
     "iopub.status.busy": "2021-11-06T11:10:10.112002Z",
     "iopub.status.idle": "2021-11-06T11:10:10.118431Z",
     "shell.execute_reply": "2021-11-06T11:10:10.119147Z",
     "shell.execute_reply.started": "2021-11-06T11:08:04.985155Z"
    },
    "papermill": {
     "duration": 0.090052,
     "end_time": "2021-11-06T11:10:10.119347",
     "exception": false,
     "start_time": "2021-11-06T11:10:10.029295",
     "status": "completed"
    },
    "tags": []
   },
   "outputs": [],
   "source": [
    "train['Ever_Married'].fillna(train['Ever_Married'].mode()[0], inplace=True)"
   ]
  },
  {
   "cell_type": "code",
   "execution_count": 21,
   "metadata": {
    "execution": {
     "iopub.execute_input": "2021-11-06T11:10:10.284183Z",
     "iopub.status.busy": "2021-11-06T11:10:10.283216Z",
     "iopub.status.idle": "2021-11-06T11:10:10.746835Z",
     "shell.execute_reply": "2021-11-06T11:10:10.747498Z",
     "shell.execute_reply.started": "2021-11-06T11:08:04.998286Z"
    },
    "papermill": {
     "duration": 0.549227,
     "end_time": "2021-11-06T11:10:10.747703",
     "exception": false,
     "start_time": "2021-11-06T11:10:10.198476",
     "status": "completed"
    },
    "tags": []
   },
   "outputs": [
    {
     "data": {
      "image/png": "[encoded data removed]",
      "text/plain": [
       "<Figure size 1080x288 with 2 Axes>"
      ]
     },
     "metadata": {
      "needs_background": "light"
     },
     "output_type": "display_data"
    }
   ],
   "source": [
    "# Counting married and non-married in each segment\n",
    "ax1 = train.groupby([\"Segmentation\"])[\"Ever_Married\"].value_counts().unstack().round(3)\n",
    "\n",
    "# Percentage of married and non-married in each segment\n",
    "ax2 = train.pivot_table(columns='Ever_Married',index='Segmentation',values='ID',aggfunc='count')\n",
    "ax2 = ax2.div(ax2.sum(axis=1), axis = 0).round(2)\n",
    "\n",
    "#count plot\n",
    "fig, ax = plt.subplots(1,2)\n",
    "ax1.plot(kind=\"bar\",ax = ax[0],figsize = (15,4))\n",
    "ax[0].set_xticklabels(labels = ['A','B','C','D'],rotation = 0)\n",
    "ax[0].set_title(str(ax1))\n",
    "\n",
    "#stacked bars\n",
    "ax2.plot(kind=\"bar\",stacked = True,ax = ax[1],figsize = (15,4))\n",
    "ax[1].set_xticklabels(labels = ['A','B','C','D'],rotation = 0)\n",
    "ax[1].set_title(str(ax2))\n",
    "plt.show()"
   ]
  },
  {
   "cell_type": "markdown",
   "metadata": {
    "papermill": {
     "duration": 0.078397,
     "end_time": "2021-11-06T11:10:10.905198",
     "exception": false,
     "start_time": "2021-11-06T11:10:10.826801",
     "status": "completed"
    },
    "tags": []
   },
   "source": [
    "We saw that most of the customers in segment C are married while segment D has the least number of married customers. It means segment D is a group of customers that are singles and maybe younger in age."
   ]
  },
  {
   "cell_type": "markdown",
   "metadata": {
    "papermill": {
     "duration": 0.078049,
     "end_time": "2021-11-06T11:10:11.060680",
     "exception": false,
     "start_time": "2021-11-06T11:10:10.982631",
     "status": "completed"
    },
    "tags": []
   },
   "source": [
    "## Age"
   ]
  },
  {
   "cell_type": "code",
   "execution_count": 26,
   "metadata": {
    "execution": {
     "iopub.execute_input": "2021-11-06T11:10:11.235473Z",
     "iopub.status.busy": "2021-11-06T11:10:11.232164Z",
     "iopub.status.idle": "2021-11-06T11:10:11.796240Z",
     "shell.execute_reply": "2021-11-06T11:10:11.795593Z",
     "shell.execute_reply.started": "2021-11-06T11:08:05.497222Z"
    },
    "papermill": {
     "duration": 0.657792,
     "end_time": "2021-11-06T11:10:11.796376",
     "exception": false,
     "start_time": "2021-11-06T11:10:11.138584",
     "status": "completed"
    },
    "tags": []
   },
   "outputs": [
    {
     "data": {
      "image/png": "[encoded data removed]",
      "text/plain": [
       "<Figure size 1080x360 with 2 Axes>"
      ]
     },
     "metadata": {
      "needs_background": "light"
     },
     "output_type": "display_data"
    }
   ],
   "source": [
    "# Looking the distribution of column Age with respect to each segment\n",
    "a = train[train.Segmentation =='A'][\"Age\"]\n",
    "b = train[train.Segmentation =='B'][\"Age\"]\n",
    "c = train[train.Segmentation =='C'][\"Age\"]\n",
    "d = train[train.Segmentation =='D'][\"Age\"]\n",
    "\n",
    "plt.figure(figsize=(15,5))\n",
    "\n",
    "plt.subplot(1,2,1)\n",
    "sns.boxplot(data = train, x = \"Segmentation\", y=\"Age\")\n",
    "plt.title('Boxplot')\n",
    "\n",
    "plt.subplot(1,2,2)\n",
    "sns.kdeplot(d,shade= False, label = 'D')\n",
    "sns.kdeplot(a,shade= False, label = 'A')\n",
    "sns.kdeplot(b,shade= False, label = 'B')\n",
    "sns.kdeplot(c,shade= False, label = 'C')\n",
    "plt.xlabel('Age')\n",
    "plt.ylabel('Density')\n",
    "plt.legend()\n",
    "plt.title(\"Mean\\n A: {}\\n B: {}\\n C: {}\\n D: {}\".format(round(a.mean(),0),round(b.mean(),0),round(c.mean(),0),round(d.mean(),0)))\n",
    "\n",
    "plt.show()"
   ]
  },
  {
   "cell_type": "markdown",
   "metadata": {
    "papermill": {
     "duration": 0.08302,
     "end_time": "2021-11-06T11:10:11.963755",
     "exception": false,
     "start_time": "2021-11-06T11:10:11.880735",
     "status": "completed"
    },
    "tags": []
   },
   "source": [
    "The mean age of segment D is 33 and we can say that people in this segment are belong to 30s i.e. they are younger and also from 'ever_married' distribution it is seen that segment D has maximum number of customers who are singles indicating they are younger.<br>\n",
    "Also segment C has mean age of 49 and we also seen that most customers in this segment are married. "
   ]
  },
  {
   "cell_type": "markdown",
   "metadata": {
    "papermill": {
     "duration": 0.080893,
     "end_time": "2021-11-06T11:10:12.125286",
     "exception": false,
     "start_time": "2021-11-06T11:10:12.044393",
     "status": "completed"
    },
    "tags": []
   },
   "source": [
    "## Graduated"
   ]
  },
  {
   "cell_type": "code",
   "execution_count": 27,
   "metadata": {
    "execution": {
     "iopub.execute_input": "2021-11-06T11:10:12.293843Z",
     "iopub.status.busy": "2021-11-06T11:10:12.292784Z",
     "iopub.status.idle": "2021-11-06T11:10:12.296150Z",
     "shell.execute_reply": "2021-11-06T11:10:12.296886Z",
     "shell.execute_reply.started": "2021-11-06T11:08:06.041339Z"
    },
    "papermill": {
     "duration": 0.091902,
     "end_time": "2021-11-06T11:10:12.297100",
     "exception": false,
     "start_time": "2021-11-06T11:10:12.205198",
     "status": "completed"
    },
    "tags": []
   },
   "outputs": [
    {
     "name": "stdout",
     "output_type": "stream",
     "text": [
      "Count of each graduate and non-graduate\n",
      " Yes    4968\n",
      "No     3022\n",
      "Name: Graduated, dtype: int64\n"
     ]
    }
   ],
   "source": [
    "print('Count of each graduate and non-graduate\\n',train.Graduated.value_counts())"
   ]
  },
  {
   "cell_type": "code",
   "execution_count": 28,
   "metadata": {
    "execution": {
     "iopub.execute_input": "2021-11-06T11:10:12.466210Z",
     "iopub.status.busy": "2021-11-06T11:10:12.465283Z",
     "iopub.status.idle": "2021-11-06T11:10:12.469440Z",
     "shell.execute_reply": "2021-11-06T11:10:12.468842Z",
     "shell.execute_reply.started": "2021-11-06T11:08:06.052311Z"
    },
    "papermill": {
     "duration": 0.091187,
     "end_time": "2021-11-06T11:10:12.469587",
     "exception": false,
     "start_time": "2021-11-06T11:10:12.378400",
     "status": "completed"
    },
    "tags": []
   },
   "outputs": [
    {
     "data": {
      "text/plain": [
       "78"
      ]
     },
     "execution_count": 28,
     "metadata": {},
     "output_type": "execute_result"
    }
   ],
   "source": [
    "# Checking the count of missing values\n",
    "train.Graduated.isnull().sum()"
   ]
  },
  {
   "cell_type": "code",
   "execution_count": 29,
   "metadata": {
    "execution": {
     "iopub.execute_input": "2021-11-06T11:10:12.638380Z",
     "iopub.status.busy": "2021-11-06T11:10:12.637767Z",
     "iopub.status.idle": "2021-11-06T11:10:12.640345Z",
     "shell.execute_reply": "2021-11-06T11:10:12.639762Z",
     "shell.execute_reply.started": "2021-11-06T11:08:06.069138Z"
    },
    "papermill": {
     "duration": 0.090218,
     "end_time": "2021-11-06T11:10:12.640487",
     "exception": false,
     "start_time": "2021-11-06T11:10:12.550269",
     "status": "completed"
    },
    "tags": []
   },
   "outputs": [],
   "source": [
    "train['Graduated'].fillna((train['Graduated'].mode()[0]), inplace=True)"
   ]
  },
  {
   "cell_type": "code",
   "execution_count": 30,
   "metadata": {
    "execution": {
     "iopub.execute_input": "2021-11-06T11:10:12.805705Z",
     "iopub.status.busy": "2021-11-06T11:10:12.804699Z",
     "iopub.status.idle": "2021-11-06T11:10:13.282972Z",
     "shell.execute_reply": "2021-11-06T11:10:13.282459Z",
     "shell.execute_reply.started": "2021-11-06T11:08:06.084064Z"
    },
    "papermill": {
     "duration": 0.562555,
     "end_time": "2021-11-06T11:10:13.283108",
     "exception": false,
     "start_time": "2021-11-06T11:10:12.720553",
     "status": "completed"
    },
    "tags": []
   },
   "outputs": [
    {
     "data": {
      "image/png": "[encoded data removed]",
      "text/plain": [
       "<Figure size 1080x288 with 2 Axes>"
      ]
     },
     "metadata": {
      "needs_background": "light"
     },
     "output_type": "display_data"
    }
   ],
   "source": [
    "# Counting graduate and non-graduate in each segment\n",
    "ax1 = train.groupby([\"Segmentation\"])[\"Graduated\"].value_counts().unstack().round(3)\n",
    "\n",
    "# Percentage of graduate and non-graduate in each segment\n",
    "ax2 = train.pivot_table(columns='Graduated',index='Segmentation',values='ID',aggfunc='count')\n",
    "ax2 = ax2.div(ax2.sum(axis=1), axis = 0).round(2)\n",
    "\n",
    "#count plot\n",
    "fig, ax = plt.subplots(1,2)\n",
    "ax1.plot(kind=\"bar\",ax = ax[0],figsize = (15,4))\n",
    "ax[0].set_xticklabels(labels = ['A','B','C','D'],rotation = 0)\n",
    "ax[0].set_title(str(ax1))\n",
    "\n",
    "#stacked bars\n",
    "ax2.plot(kind=\"bar\",stacked = True,ax = ax[1],figsize = (15,4))\n",
    "ax[1].set_xticklabels(labels = ['A','B','C','D'],rotation = 0)\n",
    "ax[1].set_title(str(ax2))\n",
    "plt.show()"
   ]
  },
  {
   "cell_type": "markdown",
   "metadata": {
    "papermill": {
     "duration": 0.080573,
     "end_time": "2021-11-06T11:10:13.444787",
     "exception": false,
     "start_time": "2021-11-06T11:10:13.364214",
     "status": "completed"
    },
    "tags": []
   },
   "source": [
    "Segment C has most number of customers who are graduated while segment D has lowest number of graduate customers."
   ]
  },
  {
   "cell_type": "markdown",
   "metadata": {
    "papermill": {
     "duration": 0.081854,
     "end_time": "2021-11-06T11:10:13.607736",
     "exception": false,
     "start_time": "2021-11-06T11:10:13.525882",
     "status": "completed"
    },
    "tags": []
   },
   "source": [
    "## Profession"
   ]
  },
  {
   "cell_type": "code",
   "execution_count": 31,
   "metadata": {
    "execution": {
     "iopub.execute_input": "2021-11-06T11:10:13.773115Z",
     "iopub.status.busy": "2021-11-06T11:10:13.772508Z",
     "iopub.status.idle": "2021-11-06T11:10:13.780794Z",
     "shell.execute_reply": "2021-11-06T11:10:13.780233Z",
     "shell.execute_reply.started": "2021-11-06T11:08:06.542580Z"
    },
    "papermill": {
     "duration": 0.09233,
     "end_time": "2021-11-06T11:10:13.780932",
     "exception": false,
     "start_time": "2021-11-06T11:10:13.688602",
     "status": "completed"
    },
    "tags": []
   },
   "outputs": [
    {
     "name": "stdout",
     "output_type": "stream",
     "text": [
      "Count of each profession\n",
      " Artist           2516\n",
      "Healthcare       1332\n",
      "Entertainment     949\n",
      "Engineer          699\n",
      "Doctor            688\n",
      "Lawyer            623\n",
      "Executive         599\n",
      "Marketing         292\n",
      "Homemaker         246\n",
      "Name: Profession, dtype: int64\n"
     ]
    }
   ],
   "source": [
    "print('Count of each profession\\n',train.Profession.value_counts())"
   ]
  },
  {
   "cell_type": "code",
   "execution_count": 32,
   "metadata": {
    "execution": {
     "iopub.execute_input": "2021-11-06T11:10:13.950297Z",
     "iopub.status.busy": "2021-11-06T11:10:13.949698Z",
     "iopub.status.idle": "2021-11-06T11:10:13.955777Z",
     "shell.execute_reply": "2021-11-06T11:10:13.956345Z",
     "shell.execute_reply.started": "2021-11-06T11:08:06.552000Z"
    },
    "papermill": {
     "duration": 0.09223,
     "end_time": "2021-11-06T11:10:13.956506",
     "exception": false,
     "start_time": "2021-11-06T11:10:13.864276",
     "status": "completed"
    },
    "tags": []
   },
   "outputs": [
    {
     "data": {
      "text/plain": [
       "124"
      ]
     },
     "execution_count": 32,
     "metadata": {},
     "output_type": "execute_result"
    }
   ],
   "source": [
    "# Checking the count of missing values\n",
    "train.Profession.isnull().sum()"
   ]
  },
  {
   "cell_type": "code",
   "execution_count": 33,
   "metadata": {
    "execution": {
     "iopub.execute_input": "2021-11-06T11:10:14.124793Z",
     "iopub.status.busy": "2021-11-06T11:10:14.124126Z",
     "iopub.status.idle": "2021-11-06T11:10:14.130669Z",
     "shell.execute_reply": "2021-11-06T11:10:14.131176Z",
     "shell.execute_reply.started": "2021-11-06T11:08:06.569978Z"
    },
    "papermill": {
     "duration": 0.093075,
     "end_time": "2021-11-06T11:10:14.131334",
     "exception": false,
     "start_time": "2021-11-06T11:10:14.038259",
     "status": "completed"
    },
    "tags": []
   },
   "outputs": [],
   "source": [
    "train['Profession'].fillna(train['Profession'].mode()[0], inplace=True)"
   ]
  },
  {
   "cell_type": "code",
   "execution_count": 34,
   "metadata": {
    "execution": {
     "iopub.execute_input": "2021-11-06T11:10:14.320984Z",
     "iopub.status.busy": "2021-11-06T11:10:14.320191Z",
     "iopub.status.idle": "2021-11-06T11:10:14.988003Z",
     "shell.execute_reply": "2021-11-06T11:10:14.987400Z",
     "shell.execute_reply.started": "2021-11-06T11:08:06.582506Z"
    },
    "papermill": {
     "duration": 0.774567,
     "end_time": "2021-11-06T11:10:14.988146",
     "exception": false,
     "start_time": "2021-11-06T11:10:14.213579",
     "status": "completed"
    },
    "tags": []
   },
   "outputs": [
    {
     "data": {
      "image/png": "[encoded data removed]",
      "text/plain": [
       "<Figure size 1152x360 with 2 Axes>"
      ]
     },
     "metadata": {
      "needs_background": "light"
     },
     "output_type": "display_data"
    }
   ],
   "source": [
    "# Count of segments in each profession\n",
    "ax1 = train.groupby([\"Profession\"])[\"Segmentation\"].value_counts().unstack().round(3)\n",
    "\n",
    "# Percentage of segments in each profession\n",
    "ax2 = train.pivot_table(columns='Segmentation',index='Profession',values='ID',aggfunc='count')\n",
    "ax2 = ax2.div(ax2.sum(axis=1), axis = 0).round(2)\n",
    "\n",
    "#count plot\n",
    "fig, ax = plt.subplots(1,2)\n",
    "ax1.plot(kind=\"bar\",ax = ax[0],figsize = (16,5))\n",
    "label = ['Artist','Doctor','Engineer','Entertainment','Executives','Healthcare','Homemaker','Lawyer','Marketing']\n",
    "ax[0].set_xticklabels(labels = label,rotation = 45)\n",
    "\n",
    "#stacked bars\n",
    "ax2.plot(kind=\"bar\",stacked = True,ax = ax[1],figsize = (16,5))\n",
    "ax[1].set_xticklabels(labels = label,rotation = 45)\n",
    "\n",
    "plt.show()"
   ]
  },
  {
   "cell_type": "markdown",
   "metadata": {
    "papermill": {
     "duration": 0.084051,
     "end_time": "2021-11-06T11:10:15.158209",
     "exception": false,
     "start_time": "2021-11-06T11:10:15.074158",
     "status": "completed"
    },
    "tags": []
   },
   "source": [
    "Segment A,B and C have major customers from profession:**Artist** while Segment D have major customers from profession:**Healthcare** <br>\n",
    "**Homemaker** is least in all the four segment"
   ]
  },
  {
   "cell_type": "markdown",
   "metadata": {
    "papermill": {
     "duration": 0.084166,
     "end_time": "2021-11-06T11:10:15.326893",
     "exception": false,
     "start_time": "2021-11-06T11:10:15.242727",
     "status": "completed"
    },
    "tags": []
   },
   "source": [
    "## Work Experience"
   ]
  },
  {
   "cell_type": "code",
   "execution_count": 35,
   "metadata": {
    "execution": {
     "iopub.execute_input": "2021-11-06T11:10:15.512744Z",
     "iopub.status.busy": "2021-11-06T11:10:15.512036Z",
     "iopub.status.idle": "2021-11-06T11:10:15.518703Z",
     "shell.execute_reply": "2021-11-06T11:10:15.517652Z",
     "shell.execute_reply.started": "2021-11-06T11:08:07.236899Z"
    },
    "papermill": {
     "duration": 0.107192,
     "end_time": "2021-11-06T11:10:15.518900",
     "exception": false,
     "start_time": "2021-11-06T11:10:15.411708",
     "status": "completed"
    },
    "tags": []
   },
   "outputs": [
    {
     "data": {
      "text/plain": [
       "829"
      ]
     },
     "execution_count": 35,
     "metadata": {},
     "output_type": "execute_result"
    }
   ],
   "source": [
    "# Checking the count of missing values\n",
    "train.Work_Experience.isnull().sum()"
   ]
  },
  {
   "cell_type": "code",
   "execution_count": 36,
   "metadata": {
    "execution": {
     "iopub.execute_input": "2021-11-06T11:10:15.765609Z",
     "iopub.status.busy": "2021-11-06T11:10:15.764784Z",
     "iopub.status.idle": "2021-11-06T11:10:15.772235Z",
     "shell.execute_reply": "2021-11-06T11:10:15.772959Z",
     "shell.execute_reply.started": "2021-11-06T11:08:07.245324Z"
    },
    "papermill": {
     "duration": 0.103969,
     "end_time": "2021-11-06T11:10:15.773208",
     "exception": false,
     "start_time": "2021-11-06T11:10:15.669239",
     "status": "completed"
    },
    "tags": []
   },
   "outputs": [],
   "source": [
    "train['Work_Experience'].fillna(train['Work_Experience'].mode()[0], inplace=True)"
   ]
  },
  {
   "cell_type": "code",
   "execution_count": 37,
   "metadata": {
    "execution": {
     "iopub.execute_input": "2021-11-06T11:10:15.953634Z",
     "iopub.status.busy": "2021-11-06T11:10:15.952972Z",
     "iopub.status.idle": "2021-11-06T11:10:16.542857Z",
     "shell.execute_reply": "2021-11-06T11:10:16.542330Z",
     "shell.execute_reply.started": "2021-11-06T11:08:07.256382Z"
    },
    "papermill": {
     "duration": 0.677434,
     "end_time": "2021-11-06T11:10:16.543011",
     "exception": false,
     "start_time": "2021-11-06T11:10:15.865577",
     "status": "completed"
    },
    "tags": []
   },
   "outputs": [
    {
     "data": {
      "image/png": "[encoded data removed]",
      "text/plain": [
       "<Figure size 1080x360 with 2 Axes>"
      ]
     },
     "metadata": {
      "needs_background": "light"
     },
     "output_type": "display_data"
    }
   ],
   "source": [
    "# Looking the distribution of column Work_Experience w.r.t to each segment\n",
    "a = train[train.Segmentation =='A'][\"Work_Experience\"]\n",
    "b = train[train.Segmentation =='B'][\"Work_Experience\"]\n",
    "c = train[train.Segmentation =='C'][\"Work_Experience\"]\n",
    "d = train[train.Segmentation =='D'][\"Work_Experience\"]\n",
    "\n",
    "plt.figure(figsize=(15,5))\n",
    "\n",
    "plt.subplot(1,2,1)\n",
    "sns.boxplot(data = train, x = \"Segmentation\", y=\"Work_Experience\")\n",
    "plt.title('Boxplot')\n",
    "\n",
    "plt.subplot(1,2,2)\n",
    "sns.kdeplot(d,shade= False, label = 'D')\n",
    "sns.kdeplot(a,shade= False, label = 'A')\n",
    "sns.kdeplot(b,shade= False, label = 'B')\n",
    "sns.kdeplot(c,shade= False, label = 'C')\n",
    "plt.xlabel('Work Experience')\n",
    "plt.ylabel('Density')\n",
    "plt.title(\"Mean\\n A: {}\\n B: {}\\n C: {}\\n D: {}\".format(round(a.mean(),0),round(b.mean(),0),round(c.mean(),0),round(d.mean(),0)))\n",
    "\n",
    "plt.show()"
   ]
  },
  {
   "cell_type": "markdown",
   "metadata": {
    "papermill": {
     "duration": 0.087466,
     "end_time": "2021-11-06T11:10:16.716841",
     "exception": false,
     "start_time": "2021-11-06T11:10:16.629375",
     "status": "completed"
    },
    "tags": []
   },
   "source": [
    "Segment D has people with relatively more experienced than other segments while Segment C has people with low experience"
   ]
  },
  {
   "cell_type": "markdown",
   "metadata": {
    "papermill": {
     "duration": 0.085971,
     "end_time": "2021-11-06T11:10:16.888407",
     "exception": false,
     "start_time": "2021-11-06T11:10:16.802436",
     "status": "completed"
    },
    "tags": []
   },
   "source": [
    "## Spending Score"
   ]
  },
  {
   "cell_type": "code",
   "execution_count": 40,
   "metadata": {
    "execution": {
     "iopub.execute_input": "2021-11-06T11:10:17.068113Z",
     "iopub.status.busy": "2021-11-06T11:10:17.067095Z",
     "iopub.status.idle": "2021-11-06T11:10:17.071882Z",
     "shell.execute_reply": "2021-11-06T11:10:17.071242Z",
     "shell.execute_reply.started": "2021-11-06T11:08:07.812949Z"
    },
    "papermill": {
     "duration": 0.098444,
     "end_time": "2021-11-06T11:10:17.072022",
     "exception": false,
     "start_time": "2021-11-06T11:10:16.973578",
     "status": "completed"
    },
    "tags": []
   },
   "outputs": [
    {
     "name": "stdout",
     "output_type": "stream",
     "text": [
      "Count of spending score\n",
      " Low        4878\n",
      "Average    1974\n",
      "High       1216\n",
      "Name: Spending_Score, dtype: int64\n"
     ]
    }
   ],
   "source": [
    "print('Count of spending score\\n',train.Spending_Score.value_counts())"
   ]
  },
  {
   "cell_type": "code",
   "execution_count": 41,
   "metadata": {
    "execution": {
     "iopub.execute_input": "2021-11-06T11:10:17.249808Z",
     "iopub.status.busy": "2021-11-06T11:10:17.248824Z",
     "iopub.status.idle": "2021-11-06T11:10:17.764881Z",
     "shell.execute_reply": "2021-11-06T11:10:17.764328Z",
     "shell.execute_reply.started": "2021-11-06T11:08:07.824578Z"
    },
    "papermill": {
     "duration": 0.606016,
     "end_time": "2021-11-06T11:10:17.765022",
     "exception": false,
     "start_time": "2021-11-06T11:10:17.159006",
     "status": "completed"
    },
    "tags": []
   },
   "outputs": [
    {
     "data": {
      "image/png": "[encoded data removed]",
      "text/plain": [
       "<Figure size 1080x288 with 2 Axes>"
      ]
     },
     "metadata": {
      "needs_background": "light"
     },
     "output_type": "display_data"
    }
   ],
   "source": [
    "# Counting different category of spending score in each segment\n",
    "ax1 = train.groupby([\"Segmentation\"])[\"Spending_Score\"].value_counts().unstack().round(3)\n",
    "\n",
    "# Percentage of spending score in each segment\n",
    "ax2 = train.pivot_table(columns='Spending_Score',index='Segmentation',values='ID',aggfunc='count')\n",
    "ax2 = ax2.div(ax2.sum(axis=1), axis = 0).round(2)\n",
    "\n",
    "#count plot\n",
    "fig, ax = plt.subplots(1,2)\n",
    "ax1.plot(kind=\"bar\",ax = ax[0],figsize = (15,4))\n",
    "ax[0].set_xticklabels(labels = ['A','B','C','D'],rotation = 0)\n",
    "ax[0].set_title(str(ax1))\n",
    "\n",
    "#stacked bars\n",
    "ax2.plot(kind=\"bar\",stacked = True,ax = ax[1],figsize = (15,4))\n",
    "ax[1].set_xticklabels(labels = ['A','B','C','D'],rotation = 0)\n",
    "ax[1].set_title(str(ax2))\n",
    "plt.show()"
   ]
  },
  {
   "cell_type": "raw",
   "metadata": {
    "papermill": {
     "duration": 0.087022,
     "end_time": "2021-11-06T11:10:17.939036",
     "exception": false,
     "start_time": "2021-11-06T11:10:17.852014",
     "status": "completed"
    },
    "tags": []
   },
   "source": [
    "Segment D has maximum number of people with low spending score while in Segment C average spending people are more."
   ]
  },
  {
   "cell_type": "markdown",
   "metadata": {
    "papermill": {
     "duration": 0.091192,
     "end_time": "2021-11-06T11:10:18.120321",
     "exception": false,
     "start_time": "2021-11-06T11:10:18.029129",
     "status": "completed"
    },
    "tags": []
   },
   "source": [
    "## Family Size"
   ]
  },
  {
   "cell_type": "code",
   "execution_count": 42,
   "metadata": {
    "execution": {
     "iopub.execute_input": "2021-11-06T11:10:18.299973Z",
     "iopub.status.busy": "2021-11-06T11:10:18.298979Z",
     "iopub.status.idle": "2021-11-06T11:10:18.304798Z",
     "shell.execute_reply": "2021-11-06T11:10:18.305350Z",
     "shell.execute_reply.started": "2021-11-06T11:08:08.329429Z"
    },
    "papermill": {
     "duration": 0.097113,
     "end_time": "2021-11-06T11:10:18.305559",
     "exception": false,
     "start_time": "2021-11-06T11:10:18.208446",
     "status": "completed"
    },
    "tags": []
   },
   "outputs": [
    {
     "data": {
      "text/plain": [
       "335"
      ]
     },
     "execution_count": 42,
     "metadata": {},
     "output_type": "execute_result"
    }
   ],
   "source": [
    "# Checking the count of missing values\n",
    "train.Family_Size.isnull().sum()"
   ]
  },
  {
   "cell_type": "code",
   "execution_count": 43,
   "metadata": {
    "execution": {
     "iopub.execute_input": "2021-11-06T11:10:18.483438Z",
     "iopub.status.busy": "2021-11-06T11:10:18.482400Z",
     "iopub.status.idle": "2021-11-06T11:10:18.487384Z",
     "shell.execute_reply": "2021-11-06T11:10:18.488007Z",
     "shell.execute_reply.started": "2021-11-06T11:08:08.338943Z"
    },
    "papermill": {
     "duration": 0.095737,
     "end_time": "2021-11-06T11:10:18.488167",
     "exception": false,
     "start_time": "2021-11-06T11:10:18.392430",
     "status": "completed"
    },
    "tags": []
   },
   "outputs": [],
   "source": [
    "train['Family_Size'].fillna((train['Family_Size'].mean()), inplace=True)"
   ]
  },
  {
   "cell_type": "code",
   "execution_count": 44,
   "metadata": {
    "execution": {
     "iopub.execute_input": "2021-11-06T11:10:18.668074Z",
     "iopub.status.busy": "2021-11-06T11:10:18.667082Z",
     "iopub.status.idle": "2021-11-06T11:10:19.364678Z",
     "shell.execute_reply": "2021-11-06T11:10:19.365172Z",
     "shell.execute_reply.started": "2021-11-06T11:08:08.351694Z"
    },
    "papermill": {
     "duration": 0.789638,
     "end_time": "2021-11-06T11:10:19.365339",
     "exception": false,
     "start_time": "2021-11-06T11:10:18.575701",
     "status": "completed"
    },
    "tags": []
   },
   "outputs": [
    {
     "data": {
      "image/png": "[encoded data removed]",
      "text/plain": [
       "<Figure size 1080x360 with 2 Axes>"
      ]
     },
     "metadata": {
      "needs_background": "light"
     },
     "output_type": "display_data"
    }
   ],
   "source": [
    "# Looking the distribution of column Family Size w.r.t to each segment\n",
    "a = train[train.Segmentation =='A'][\"Family_Size\"]\n",
    "b = train[train.Segmentation =='B'][\"Family_Size\"]\n",
    "c = train[train.Segmentation =='C'][\"Family_Size\"]\n",
    "d = train[train.Segmentation =='D'][\"Family_Size\"]\n",
    "\n",
    "plt.figure(figsize=(15,5))\n",
    "\n",
    "plt.subplot(1,2,1)\n",
    "sns.boxplot(data = train, x = \"Segmentation\", y=\"Family_Size\")\n",
    "plt.title('Boxplot')\n",
    "\n",
    "plt.subplot(1,2,2)\n",
    "sns.kdeplot(a,shade= False, label = 'A')\n",
    "sns.kdeplot(b,shade= False, label = 'B')\n",
    "sns.kdeplot(c,shade= False, label = 'C')\n",
    "sns.kdeplot(d,shade= False, label = 'D')\n",
    "plt.xlabel('Family Size')\n",
    "plt.ylabel('Density')\n",
    "plt.title(\"Mean\\n A: {}\\n B: {}\\n C: {}\\n D: {}\".format(round(a.mean(),0),round(b.mean(),0),round(c.mean(),0),round(d.mean(),0)))\n",
    "\n",
    "plt.show()"
   ]
  },
  {
   "cell_type": "markdown",
   "metadata": {
    "papermill": {
     "duration": 0.089088,
     "end_time": "2021-11-06T11:10:19.543871",
     "exception": false,
     "start_time": "2021-11-06T11:10:19.454783",
     "status": "completed"
    },
    "tags": []
   },
   "source": [
    "In the given data it is observed that most of the people have family size of 1 or 2 (i.e. they have small family).<br> But Segment D has more number of  big families as compared to other segments."
   ]
  },
  {
   "cell_type": "code",
   "execution_count": 45,
   "metadata": {
    "execution": {
     "iopub.execute_input": "2021-11-06T11:10:19.726263Z",
     "iopub.status.busy": "2021-11-06T11:10:19.725273Z",
     "iopub.status.idle": "2021-11-06T11:10:19.733298Z",
     "shell.execute_reply": "2021-11-06T11:10:19.733782Z",
     "shell.execute_reply.started": "2021-11-06T11:08:09.135065Z"
    },
    "papermill": {
     "duration": 0.100729,
     "end_time": "2021-11-06T11:10:19.733948",
     "exception": false,
     "start_time": "2021-11-06T11:10:19.633219",
     "status": "completed"
    },
    "tags": []
   },
   "outputs": [
    {
     "data": {
      "text/plain": [
       "D    0.281111\n",
       "A    0.244422\n",
       "C    0.244175\n",
       "B    0.230293\n",
       "Name: Segmentation, dtype: float64"
      ]
     },
     "execution_count": 45,
     "metadata": {},
     "output_type": "execute_result"
    }
   ],
   "source": [
    "train.Segmentation.value_counts(normalize=True)"
   ]
  },
  {
   "cell_type": "markdown",
   "metadata": {
    "papermill": {
     "duration": 0.090608,
     "end_time": "2021-11-06T11:10:19.914982",
     "exception": false,
     "start_time": "2021-11-06T11:10:19.824374",
     "status": "completed"
    },
    "tags": []
   },
   "source": [
    "Our model baseline is 0.28 "
   ]
  },
  {
   "cell_type": "markdown",
   "metadata": {
    "papermill": {
     "duration": 0.090284,
     "end_time": "2021-11-06T11:10:20.095182",
     "exception": false,
     "start_time": "2021-11-06T11:10:20.004898",
     "status": "completed"
    },
    "tags": []
   },
   "source": [
    "# Features Engineering"
   ]
  },
  {
   "cell_type": "markdown",
   "metadata": {
    "papermill": {
     "duration": 0.089938,
     "end_time": "2021-11-06T11:10:20.277048",
     "exception": false,
     "start_time": "2021-11-06T11:10:20.187110",
     "status": "completed"
    },
    "tags": []
   },
   "source": [
    "### Data Encoding- Label Encoding"
   ]
  },
  {
   "cell_type": "markdown",
   "metadata": {
    "papermill": {
     "duration": 0.089508,
     "end_time": "2021-11-06T11:10:20.461145",
     "exception": false,
     "start_time": "2021-11-06T11:10:20.371637",
     "status": "completed"
    },
    "tags": []
   },
   "source": [
    "As the ID column is not useful in dividing customers into segments because it is any random value thus having no correlations with the segmentation , we could drop it. "
   ]
  },
  {
   "cell_type": "code",
   "execution_count": 46,
   "metadata": {
    "execution": {
     "iopub.execute_input": "2021-11-06T11:10:20.644848Z",
     "iopub.status.busy": "2021-11-06T11:10:20.643870Z",
     "iopub.status.idle": "2021-11-06T11:10:20.660677Z",
     "shell.execute_reply": "2021-11-06T11:10:20.661210Z",
     "shell.execute_reply.started": "2021-11-06T11:08:09.148281Z"
    },
    "papermill": {
     "duration": 0.110303,
     "end_time": "2021-11-06T11:10:20.661375",
     "exception": false,
     "start_time": "2021-11-06T11:10:20.551072",
     "status": "completed"
    },
    "tags": []
   },
   "outputs": [
    {
     "data": {
      "text/html": [
       "<div>\n",
       "<style scoped>\n",
       "    .dataframe tbody tr th:only-of-type {\n",
       "        vertical-align: middle;\n",
       "    }\n",
       "\n",
       "    .dataframe tbody tr th {\n",
       "        vertical-align: top;\n",
       "    }\n",
       "\n",
       "    .dataframe thead th {\n",
       "        text-align: right;\n",
       "    }\n",
       "</style>\n",
       "<table border=\"1\" class=\"dataframe\">\n",
       "  <thead>\n",
       "    <tr style=\"text-align: right;\">\n",
       "      <th></th>\n",
       "      <th>Gender</th>\n",
       "      <th>Ever_Married</th>\n",
       "      <th>Age</th>\n",
       "      <th>Graduated</th>\n",
       "      <th>Profession</th>\n",
       "      <th>Work_Experience</th>\n",
       "      <th>Spending_Score</th>\n",
       "      <th>Family_Size</th>\n",
       "      <th>Var_1</th>\n",
       "      <th>Segmentation</th>\n",
       "    </tr>\n",
       "  </thead>\n",
       "  <tbody>\n",
       "    <tr>\n",
       "      <th>0</th>\n",
       "      <td>Male</td>\n",
       "      <td>No</td>\n",
       "      <td>22</td>\n",
       "      <td>No</td>\n",
       "      <td>Healthcare</td>\n",
       "      <td>1.0</td>\n",
       "      <td>Low</td>\n",
       "      <td>4.0</td>\n",
       "      <td>Cat_4</td>\n",
       "      <td>D</td>\n",
       "    </tr>\n",
       "    <tr>\n",
       "      <th>1</th>\n",
       "      <td>Female</td>\n",
       "      <td>Yes</td>\n",
       "      <td>38</td>\n",
       "      <td>Yes</td>\n",
       "      <td>Engineer</td>\n",
       "      <td>1.0</td>\n",
       "      <td>Average</td>\n",
       "      <td>3.0</td>\n",
       "      <td>Cat_4</td>\n",
       "      <td>A</td>\n",
       "    </tr>\n",
       "    <tr>\n",
       "      <th>2</th>\n",
       "      <td>Female</td>\n",
       "      <td>Yes</td>\n",
       "      <td>67</td>\n",
       "      <td>Yes</td>\n",
       "      <td>Engineer</td>\n",
       "      <td>1.0</td>\n",
       "      <td>Low</td>\n",
       "      <td>1.0</td>\n",
       "      <td>Cat_6</td>\n",
       "      <td>B</td>\n",
       "    </tr>\n",
       "    <tr>\n",
       "      <th>3</th>\n",
       "      <td>Male</td>\n",
       "      <td>Yes</td>\n",
       "      <td>67</td>\n",
       "      <td>Yes</td>\n",
       "      <td>Lawyer</td>\n",
       "      <td>0.0</td>\n",
       "      <td>High</td>\n",
       "      <td>2.0</td>\n",
       "      <td>Cat_6</td>\n",
       "      <td>B</td>\n",
       "    </tr>\n",
       "    <tr>\n",
       "      <th>4</th>\n",
       "      <td>Female</td>\n",
       "      <td>Yes</td>\n",
       "      <td>40</td>\n",
       "      <td>Yes</td>\n",
       "      <td>Entertainment</td>\n",
       "      <td>1.0</td>\n",
       "      <td>High</td>\n",
       "      <td>6.0</td>\n",
       "      <td>Cat_6</td>\n",
       "      <td>A</td>\n",
       "    </tr>\n",
       "  </tbody>\n",
       "</table>\n",
       "</div>"
      ],
      "text/plain": [
       "   Gender Ever_Married  Age Graduated     Profession  Work_Experience Spending_Score  Family_Size  Var_1 Segmentation\n",
       "0    Male           No   22        No     Healthcare              1.0            Low          4.0  Cat_4            D\n",
       "1  Female          Yes   38       Yes       Engineer              1.0        Average          3.0  Cat_4            A\n",
       "2  Female          Yes   67       Yes       Engineer              1.0            Low          1.0  Cat_6            B\n",
       "3    Male          Yes   67       Yes         Lawyer              0.0           High          2.0  Cat_6            B\n",
       "4  Female          Yes   40       Yes  Entertainment              1.0           High          6.0  Cat_6            A"
      ]
     },
     "execution_count": 46,
     "metadata": {},
     "output_type": "execute_result"
    }
   ],
   "source": [
    "train.drop(['ID'],inplace=True,axis=1)\n",
    "train.head(5)"
   ]
  },
  {
   "cell_type": "code",
   "execution_count": 47,
   "metadata": {
    "execution": {
     "iopub.execute_input": "2021-11-06T11:10:20.850827Z",
     "iopub.status.busy": "2021-11-06T11:10:20.849898Z",
     "iopub.status.idle": "2021-11-06T11:10:20.998949Z",
     "shell.execute_reply": "2021-11-06T11:10:20.998303Z",
     "shell.execute_reply.started": "2021-11-06T11:08:09.173273Z"
    },
    "papermill": {
     "duration": 0.247154,
     "end_time": "2021-11-06T11:10:20.999106",
     "exception": false,
     "start_time": "2021-11-06T11:10:20.751952",
     "status": "completed"
    },
    "tags": []
   },
   "outputs": [
    {
     "data": {
      "text/html": [
       "<div>\n",
       "<style scoped>\n",
       "    .dataframe tbody tr th:only-of-type {\n",
       "        vertical-align: middle;\n",
       "    }\n",
       "\n",
       "    .dataframe tbody tr th {\n",
       "        vertical-align: top;\n",
       "    }\n",
       "\n",
       "    .dataframe thead th {\n",
       "        text-align: right;\n",
       "    }\n",
       "</style>\n",
       "<table border=\"1\" class=\"dataframe\">\n",
       "  <thead>\n",
       "    <tr style=\"text-align: right;\">\n",
       "      <th></th>\n",
       "      <th>Gender</th>\n",
       "      <th>Ever_Married</th>\n",
       "      <th>Age</th>\n",
       "      <th>Graduated</th>\n",
       "      <th>Profession</th>\n",
       "      <th>Work_Experience</th>\n",
       "      <th>Spending_Score</th>\n",
       "      <th>Family_Size</th>\n",
       "      <th>Var_1</th>\n",
       "      <th>Segmentation</th>\n",
       "    </tr>\n",
       "  </thead>\n",
       "  <tbody>\n",
       "    <tr>\n",
       "      <th>0</th>\n",
       "      <td>1</td>\n",
       "      <td>0</td>\n",
       "      <td>22</td>\n",
       "      <td>0</td>\n",
       "      <td>Healthcare</td>\n",
       "      <td>1.0</td>\n",
       "      <td>Low</td>\n",
       "      <td>4.0</td>\n",
       "      <td>Cat_4</td>\n",
       "      <td>D</td>\n",
       "    </tr>\n",
       "    <tr>\n",
       "      <th>1</th>\n",
       "      <td>0</td>\n",
       "      <td>1</td>\n",
       "      <td>38</td>\n",
       "      <td>1</td>\n",
       "      <td>Engineer</td>\n",
       "      <td>1.0</td>\n",
       "      <td>Average</td>\n",
       "      <td>3.0</td>\n",
       "      <td>Cat_4</td>\n",
       "      <td>A</td>\n",
       "    </tr>\n",
       "    <tr>\n",
       "      <th>2</th>\n",
       "      <td>0</td>\n",
       "      <td>1</td>\n",
       "      <td>67</td>\n",
       "      <td>1</td>\n",
       "      <td>Engineer</td>\n",
       "      <td>1.0</td>\n",
       "      <td>Low</td>\n",
       "      <td>1.0</td>\n",
       "      <td>Cat_6</td>\n",
       "      <td>B</td>\n",
       "    </tr>\n",
       "    <tr>\n",
       "      <th>3</th>\n",
       "      <td>1</td>\n",
       "      <td>1</td>\n",
       "      <td>67</td>\n",
       "      <td>1</td>\n",
       "      <td>Lawyer</td>\n",
       "      <td>0.0</td>\n",
       "      <td>High</td>\n",
       "      <td>2.0</td>\n",
       "      <td>Cat_6</td>\n",
       "      <td>B</td>\n",
       "    </tr>\n",
       "    <tr>\n",
       "      <th>4</th>\n",
       "      <td>0</td>\n",
       "      <td>1</td>\n",
       "      <td>40</td>\n",
       "      <td>1</td>\n",
       "      <td>Entertainment</td>\n",
       "      <td>1.0</td>\n",
       "      <td>High</td>\n",
       "      <td>6.0</td>\n",
       "      <td>Cat_6</td>\n",
       "      <td>A</td>\n",
       "    </tr>\n",
       "  </tbody>\n",
       "</table>\n",
       "</div>"
      ],
      "text/plain": [
       "   Gender  Ever_Married  Age  Graduated     Profession  Work_Experience Spending_Score  Family_Size  Var_1 Segmentation\n",
       "0       1             0   22          0     Healthcare              1.0            Low          4.0  Cat_4            D\n",
       "1       0             1   38          1       Engineer              1.0        Average          3.0  Cat_4            A\n",
       "2       0             1   67          1       Engineer              1.0            Low          1.0  Cat_6            B\n",
       "3       1             1   67          1         Lawyer              0.0           High          2.0  Cat_6            B\n",
       "4       0             1   40          1  Entertainment              1.0           High          6.0  Cat_6            A"
      ]
     },
     "execution_count": 47,
     "metadata": {},
     "output_type": "execute_result"
    }
   ],
   "source": [
    "# Encoding\n",
    "from sklearn.preprocessing import LabelEncoder\n",
    "\n",
    "\n",
    "binary_columns = [\"Gender\", \"Ever_Married\" , \"Graduated\"]\n",
    "\n",
    "\n",
    "Encoder = LabelEncoder()\n",
    "for column in binary_columns:\n",
    "     train[column] = Encoder.fit_transform(tuple(train[ column ]))\n",
    "\n",
    "train.head()"
   ]
  },
  {
   "cell_type": "code",
   "execution_count": 48,
   "metadata": {
    "execution": {
     "iopub.execute_input": "2021-11-06T11:10:21.190051Z",
     "iopub.status.busy": "2021-11-06T11:10:21.189396Z",
     "iopub.status.idle": "2021-11-06T11:10:21.201067Z",
     "shell.execute_reply": "2021-11-06T11:10:21.201656Z",
     "shell.execute_reply.started": "2021-11-06T11:08:09.341980Z"
    },
    "papermill": {
     "duration": 0.109952,
     "end_time": "2021-11-06T11:10:21.201823",
     "exception": false,
     "start_time": "2021-11-06T11:10:21.091871",
     "status": "completed"
    },
    "tags": []
   },
   "outputs": [
    {
     "data": {
      "text/html": [
       "<div>\n",
       "<style scoped>\n",
       "    .dataframe tbody tr th:only-of-type {\n",
       "        vertical-align: middle;\n",
       "    }\n",
       "\n",
       "    .dataframe tbody tr th {\n",
       "        vertical-align: top;\n",
       "    }\n",
       "\n",
       "    .dataframe thead th {\n",
       "        text-align: right;\n",
       "    }\n",
       "</style>\n",
       "<table border=\"1\" class=\"dataframe\">\n",
       "  <thead>\n",
       "    <tr style=\"text-align: right;\">\n",
       "      <th></th>\n",
       "      <th>Artist</th>\n",
       "      <th>Doctor</th>\n",
       "      <th>Engineer</th>\n",
       "      <th>Entertainment</th>\n",
       "      <th>Executive</th>\n",
       "      <th>Healthcare</th>\n",
       "      <th>Homemaker</th>\n",
       "      <th>Lawyer</th>\n",
       "      <th>Marketing</th>\n",
       "    </tr>\n",
       "  </thead>\n",
       "  <tbody>\n",
       "    <tr>\n",
       "      <th>0</th>\n",
       "      <td>0</td>\n",
       "      <td>0</td>\n",
       "      <td>0</td>\n",
       "      <td>0</td>\n",
       "      <td>0</td>\n",
       "      <td>1</td>\n",
       "      <td>0</td>\n",
       "      <td>0</td>\n",
       "      <td>0</td>\n",
       "    </tr>\n",
       "    <tr>\n",
       "      <th>1</th>\n",
       "      <td>0</td>\n",
       "      <td>0</td>\n",
       "      <td>1</td>\n",
       "      <td>0</td>\n",
       "      <td>0</td>\n",
       "      <td>0</td>\n",
       "      <td>0</td>\n",
       "      <td>0</td>\n",
       "      <td>0</td>\n",
       "    </tr>\n",
       "    <tr>\n",
       "      <th>2</th>\n",
       "      <td>0</td>\n",
       "      <td>0</td>\n",
       "      <td>1</td>\n",
       "      <td>0</td>\n",
       "      <td>0</td>\n",
       "      <td>0</td>\n",
       "      <td>0</td>\n",
       "      <td>0</td>\n",
       "      <td>0</td>\n",
       "    </tr>\n",
       "    <tr>\n",
       "      <th>3</th>\n",
       "      <td>0</td>\n",
       "      <td>0</td>\n",
       "      <td>0</td>\n",
       "      <td>0</td>\n",
       "      <td>0</td>\n",
       "      <td>0</td>\n",
       "      <td>0</td>\n",
       "      <td>1</td>\n",
       "      <td>0</td>\n",
       "    </tr>\n",
       "    <tr>\n",
       "      <th>4</th>\n",
       "      <td>0</td>\n",
       "      <td>0</td>\n",
       "      <td>0</td>\n",
       "      <td>1</td>\n",
       "      <td>0</td>\n",
       "      <td>0</td>\n",
       "      <td>0</td>\n",
       "      <td>0</td>\n",
       "      <td>0</td>\n",
       "    </tr>\n",
       "  </tbody>\n",
       "</table>\n",
       "</div>"
      ],
      "text/plain": [
       "   Artist  Doctor  Engineer  Entertainment  Executive  Healthcare  Homemaker  Lawyer  Marketing\n",
       "0       0       0         0              0          0           1          0       0          0\n",
       "1       0       0         1              0          0           0          0       0          0\n",
       "2       0       0         1              0          0           0          0       0          0\n",
       "3       0       0         0              0          0           0          0       1          0\n",
       "4       0       0         0              1          0           0          0       0          0"
      ]
     },
     "execution_count": 48,
     "metadata": {},
     "output_type": "execute_result"
    }
   ],
   "source": [
    "# We use Dummy Variable Encoding for profession\n",
    "profession=pd.get_dummies(train.Profession)\n",
    "train.drop(['Profession'],axis=1,inplace=True)\n",
    "profession.head()"
   ]
  },
  {
   "cell_type": "code",
   "execution_count": 49,
   "metadata": {
    "execution": {
     "iopub.execute_input": "2021-11-06T11:10:21.390764Z",
     "iopub.status.busy": "2021-11-06T11:10:21.389848Z",
     "iopub.status.idle": "2021-11-06T11:10:21.395213Z",
     "shell.execute_reply": "2021-11-06T11:10:21.395796Z",
     "shell.execute_reply.started": "2021-11-06T11:08:09.363072Z"
    },
    "papermill": {
     "duration": 0.100129,
     "end_time": "2021-11-06T11:10:21.395960",
     "exception": false,
     "start_time": "2021-11-06T11:10:21.295831",
     "status": "completed"
    },
    "tags": []
   },
   "outputs": [],
   "source": [
    "# We join our profession dataframe to our train dataset\n",
    "train=train.join(profession)"
   ]
  },
  {
   "cell_type": "code",
   "execution_count": 50,
   "metadata": {
    "execution": {
     "iopub.execute_input": "2021-11-06T11:10:21.582005Z",
     "iopub.status.busy": "2021-11-06T11:10:21.581038Z",
     "iopub.status.idle": "2021-11-06T11:10:21.589486Z",
     "shell.execute_reply": "2021-11-06T11:10:21.590011Z",
     "shell.execute_reply.started": "2021-11-06T11:08:09.371641Z"
    },
    "papermill": {
     "duration": 0.102938,
     "end_time": "2021-11-06T11:10:21.590187",
     "exception": false,
     "start_time": "2021-11-06T11:10:21.487249",
     "status": "completed"
    },
    "tags": []
   },
   "outputs": [],
   "source": [
    "# Spending_Score\n",
    "train.Spending_Score=pd.Categorical(train.Spending_Score,categories=['Low','Average','High'],ordered=True).codes\n",
    "\n",
    "# Var_1\n",
    "train.Var_1=pd.Categorical(train.Var_1).codes"
   ]
  },
  {
   "cell_type": "markdown",
   "metadata": {
    "papermill": {
     "duration": 0.091249,
     "end_time": "2021-11-06T11:10:21.773335",
     "exception": false,
     "start_time": "2021-11-06T11:10:21.682086",
     "status": "completed"
    },
    "tags": []
   },
   "source": [
    "### Checking for the correlation between all features and the labels"
   ]
  },
  {
   "cell_type": "code",
   "execution_count": 51,
   "metadata": {
    "execution": {
     "iopub.execute_input": "2021-11-06T11:10:21.963735Z",
     "iopub.status.busy": "2021-11-06T11:10:21.963034Z",
     "iopub.status.idle": "2021-11-06T11:10:21.970747Z",
     "shell.execute_reply": "2021-11-06T11:10:21.970181Z",
     "shell.execute_reply.started": "2021-11-06T11:08:09.386108Z"
    },
    "papermill": {
     "duration": 0.103604,
     "end_time": "2021-11-06T11:10:21.970892",
     "exception": false,
     "start_time": "2021-11-06T11:10:21.867288",
     "status": "completed"
    },
    "tags": []
   },
   "outputs": [
    {
     "data": {
      "text/plain": [
       "array([3, 0, 1, ..., 3, 1, 1], dtype=int8)"
      ]
     },
     "execution_count": 51,
     "metadata": {},
     "output_type": "execute_result"
    }
   ],
   "source": [
    "# Creating encoded label Dataframe\n",
    "label=pd.Categorical(train.Segmentation,categories=['A','B','C','D']).codes\n",
    "label"
   ]
  },
  {
   "cell_type": "code",
   "execution_count": 52,
   "metadata": {
    "execution": {
     "iopub.execute_input": "2021-11-06T11:10:22.165220Z",
     "iopub.status.busy": "2021-11-06T11:10:22.164503Z",
     "iopub.status.idle": "2021-11-06T11:10:22.182845Z",
     "shell.execute_reply": "2021-11-06T11:10:22.183300Z",
     "shell.execute_reply.started": "2021-11-06T11:08:09.397536Z"
    },
    "papermill": {
     "duration": 0.118677,
     "end_time": "2021-11-06T11:10:22.183908",
     "exception": false,
     "start_time": "2021-11-06T11:10:22.065231",
     "status": "completed"
    },
    "tags": []
   },
   "outputs": [
    {
     "data": {
      "text/html": [
       "<div>\n",
       "<style scoped>\n",
       "    .dataframe tbody tr th:only-of-type {\n",
       "        vertical-align: middle;\n",
       "    }\n",
       "\n",
       "    .dataframe tbody tr th {\n",
       "        vertical-align: top;\n",
       "    }\n",
       "\n",
       "    .dataframe thead th {\n",
       "        text-align: right;\n",
       "    }\n",
       "</style>\n",
       "<table border=\"1\" class=\"dataframe\">\n",
       "  <thead>\n",
       "    <tr style=\"text-align: right;\">\n",
       "      <th></th>\n",
       "      <th>label</th>\n",
       "      <th>Gender</th>\n",
       "      <th>Ever_Married</th>\n",
       "      <th>Age</th>\n",
       "      <th>Graduated</th>\n",
       "      <th>Work_Experience</th>\n",
       "      <th>Spending_Score</th>\n",
       "      <th>Family_Size</th>\n",
       "      <th>Var_1</th>\n",
       "      <th>Segmentation</th>\n",
       "      <th>Artist</th>\n",
       "      <th>Doctor</th>\n",
       "      <th>Engineer</th>\n",
       "      <th>Entertainment</th>\n",
       "      <th>Executive</th>\n",
       "      <th>Healthcare</th>\n",
       "      <th>Homemaker</th>\n",
       "      <th>Lawyer</th>\n",
       "      <th>Marketing</th>\n",
       "    </tr>\n",
       "  </thead>\n",
       "  <tbody>\n",
       "    <tr>\n",
       "      <th>0</th>\n",
       "      <td>3</td>\n",
       "      <td>1</td>\n",
       "      <td>0</td>\n",
       "      <td>22</td>\n",
       "      <td>0</td>\n",
       "      <td>1.0</td>\n",
       "      <td>0</td>\n",
       "      <td>4.0</td>\n",
       "      <td>3</td>\n",
       "      <td>D</td>\n",
       "      <td>0</td>\n",
       "      <td>0</td>\n",
       "      <td>0</td>\n",
       "      <td>0</td>\n",
       "      <td>0</td>\n",
       "      <td>1</td>\n",
       "      <td>0</td>\n",
       "      <td>0</td>\n",
       "      <td>0</td>\n",
       "    </tr>\n",
       "    <tr>\n",
       "      <th>1</th>\n",
       "      <td>0</td>\n",
       "      <td>0</td>\n",
       "      <td>1</td>\n",
       "      <td>38</td>\n",
       "      <td>1</td>\n",
       "      <td>1.0</td>\n",
       "      <td>1</td>\n",
       "      <td>3.0</td>\n",
       "      <td>3</td>\n",
       "      <td>A</td>\n",
       "      <td>0</td>\n",
       "      <td>0</td>\n",
       "      <td>1</td>\n",
       "      <td>0</td>\n",
       "      <td>0</td>\n",
       "      <td>0</td>\n",
       "      <td>0</td>\n",
       "      <td>0</td>\n",
       "      <td>0</td>\n",
       "    </tr>\n",
       "    <tr>\n",
       "      <th>2</th>\n",
       "      <td>1</td>\n",
       "      <td>0</td>\n",
       "      <td>1</td>\n",
       "      <td>67</td>\n",
       "      <td>1</td>\n",
       "      <td>1.0</td>\n",
       "      <td>0</td>\n",
       "      <td>1.0</td>\n",
       "      <td>5</td>\n",
       "      <td>B</td>\n",
       "      <td>0</td>\n",
       "      <td>0</td>\n",
       "      <td>1</td>\n",
       "      <td>0</td>\n",
       "      <td>0</td>\n",
       "      <td>0</td>\n",
       "      <td>0</td>\n",
       "      <td>0</td>\n",
       "      <td>0</td>\n",
       "    </tr>\n",
       "    <tr>\n",
       "      <th>3</th>\n",
       "      <td>1</td>\n",
       "      <td>1</td>\n",
       "      <td>1</td>\n",
       "      <td>67</td>\n",
       "      <td>1</td>\n",
       "      <td>0.0</td>\n",
       "      <td>2</td>\n",
       "      <td>2.0</td>\n",
       "      <td>5</td>\n",
       "      <td>B</td>\n",
       "      <td>0</td>\n",
       "      <td>0</td>\n",
       "      <td>0</td>\n",
       "      <td>0</td>\n",
       "      <td>0</td>\n",
       "      <td>0</td>\n",
       "      <td>0</td>\n",
       "      <td>1</td>\n",
       "      <td>0</td>\n",
       "    </tr>\n",
       "    <tr>\n",
       "      <th>4</th>\n",
       "      <td>0</td>\n",
       "      <td>0</td>\n",
       "      <td>1</td>\n",
       "      <td>40</td>\n",
       "      <td>1</td>\n",
       "      <td>1.0</td>\n",
       "      <td>2</td>\n",
       "      <td>6.0</td>\n",
       "      <td>5</td>\n",
       "      <td>A</td>\n",
       "      <td>0</td>\n",
       "      <td>0</td>\n",
       "      <td>0</td>\n",
       "      <td>1</td>\n",
       "      <td>0</td>\n",
       "      <td>0</td>\n",
       "      <td>0</td>\n",
       "      <td>0</td>\n",
       "      <td>0</td>\n",
       "    </tr>\n",
       "  </tbody>\n",
       "</table>\n",
       "</div>"
      ],
      "text/plain": [
       "   label  Gender  Ever_Married  Age  Graduated  Work_Experience  Spending_Score  Family_Size  Var_1 Segmentation  Artist  Doctor  Engineer  Entertainment  Executive  Healthcare  Homemaker  Lawyer  Marketing\n",
       "0      3       1             0   22          0              1.0               0          4.0      3            D       0       0         0              0          0           1          0       0          0\n",
       "1      0       0             1   38          1              1.0               1          3.0      3            A       0       0         1              0          0           0          0       0          0\n",
       "2      1       0             1   67          1              1.0               0          1.0      5            B       0       0         1              0          0           0          0       0          0\n",
       "3      1       1             1   67          1              0.0               2          2.0      5            B       0       0         0              0          0           0          0       1          0\n",
       "4      0       0             1   40          1              1.0               2          6.0      5            A       0       0         0              1          0           0          0       0          0"
      ]
     },
     "execution_count": 52,
     "metadata": {},
     "output_type": "execute_result"
    }
   ],
   "source": [
    "# Correlation between features and label\n",
    "correlation_data=pd.DataFrame(label,columns=['label'])\n",
    "correlation_data=correlation_data.join(train)\n",
    "correlation_data.head()"
   ]
  },
  {
   "cell_type": "code",
   "execution_count": 53,
   "metadata": {
    "execution": {
     "iopub.execute_input": "2021-11-06T11:10:22.378658Z",
     "iopub.status.busy": "2021-11-06T11:10:22.377914Z",
     "iopub.status.idle": "2021-11-06T11:10:24.546613Z",
     "shell.execute_reply": "2021-11-06T11:10:24.547098Z",
     "shell.execute_reply.started": "2021-11-06T11:08:09.421175Z"
    },
    "papermill": {
     "duration": 2.267072,
     "end_time": "2021-11-06T11:10:24.547259",
     "exception": false,
     "start_time": "2021-11-06T11:10:22.280187",
     "status": "completed"
    },
    "tags": []
   },
   "outputs": [
    {
     "data": {
      "text/plain": [
       "<AxesSubplot:>"
      ]
     },
     "execution_count": 53,
     "metadata": {},
     "output_type": "execute_result"
    },
    {
     "data": {
      "image/png": "[encoded data removed]",
      "text/plain": [
       "<Figure size 1080x720 with 2 Axes>"
      ]
     },
     "metadata": {
      "needs_background": "light"
     },
     "output_type": "display_data"
    }
   ],
   "source": [
    "plt.figure(figsize=(15,10))\n",
    "sns.heatmap(correlation_data.corr(),annot=True)"
   ]
  },
  {
   "cell_type": "code",
   "execution_count": 54,
   "metadata": {
    "execution": {
     "iopub.execute_input": "2021-11-06T11:10:24.750516Z",
     "iopub.status.busy": "2021-11-06T11:10:24.749897Z",
     "iopub.status.idle": "2021-11-06T11:10:24.753616Z",
     "shell.execute_reply": "2021-11-06T11:10:24.753067Z",
     "shell.execute_reply.started": "2021-11-06T11:08:11.637950Z"
    },
    "papermill": {
     "duration": 0.107346,
     "end_time": "2021-11-06T11:10:24.753751",
     "exception": false,
     "start_time": "2021-11-06T11:10:24.646405",
     "status": "completed"
    },
    "tags": []
   },
   "outputs": [],
   "source": [
    "# Label and Features datasets\n",
    "# For the Y_train we will use the label encoded dataframe\n",
    "# and for the X_train we will drop the label from our dataset\n",
    "Y_train=label\n",
    "X_train=train.drop('Segmentation',axis=1)"
   ]
  },
  {
   "cell_type": "code",
   "execution_count": 55,
   "metadata": {
    "execution": {
     "iopub.execute_input": "2021-11-06T11:10:24.957702Z",
     "iopub.status.busy": "2021-11-06T11:10:24.957086Z",
     "iopub.status.idle": "2021-11-06T11:10:24.961545Z",
     "shell.execute_reply": "2021-11-06T11:10:24.961030Z",
     "shell.execute_reply.started": "2021-11-06T11:08:11.647878Z"
    },
    "papermill": {
     "duration": 0.109459,
     "end_time": "2021-11-06T11:10:24.961686",
     "exception": false,
     "start_time": "2021-11-06T11:10:24.852227",
     "status": "completed"
    },
    "tags": []
   },
   "outputs": [
    {
     "data": {
      "text/plain": [
       "(8068, 17)"
      ]
     },
     "execution_count": 55,
     "metadata": {},
     "output_type": "execute_result"
    }
   ],
   "source": [
    "Y_train.shape\n",
    "\n",
    "X_train.shape"
   ]
  },
  {
   "cell_type": "markdown",
   "metadata": {
    "papermill": {
     "duration": 0.098945,
     "end_time": "2021-11-06T11:10:25.160795",
     "exception": false,
     "start_time": "2021-11-06T11:10:25.061850",
     "status": "completed"
    },
    "tags": []
   },
   "source": [
    "## Splitting the data for training and validation"
   ]
  },
  {
   "cell_type": "code",
   "execution_count": 56,
   "metadata": {
    "execution": {
     "iopub.execute_input": "2021-11-06T11:10:25.392372Z",
     "iopub.status.busy": "2021-11-06T11:10:25.391753Z",
     "iopub.status.idle": "2021-11-06T11:10:25.451466Z",
     "shell.execute_reply": "2021-11-06T11:10:25.452003Z",
     "shell.execute_reply.started": "2021-11-06T11:08:11.663941Z"
    },
    "papermill": {
     "duration": 0.18432,
     "end_time": "2021-11-06T11:10:25.452170",
     "exception": false,
     "start_time": "2021-11-06T11:10:25.267850",
     "status": "completed"
    },
    "tags": []
   },
   "outputs": [],
   "source": [
    "# Spliting our dataframes to train(X_train, y_train) and validation(X_valid, y_valid) subsets\n",
    "from sklearn.model_selection import train_test_split\n",
    "X_train, X_valid, y_train, y_valid = train_test_split(X_train, Y_train, test_size=.25, random_state=2)"
   ]
  },
  {
   "cell_type": "markdown",
   "metadata": {
    "papermill": {
     "duration": 0.098422,
     "end_time": "2021-11-06T11:10:25.649357",
     "exception": false,
     "start_time": "2021-11-06T11:10:25.550935",
     "status": "completed"
    },
    "tags": []
   },
   "source": [
    "# XGBClassifer Model"
   ]
  },
  {
   "cell_type": "code",
   "execution_count": 52,
   "metadata": {
    "execution": {
     "iopub.execute_input": "2021-11-06T11:10:25.849959Z",
     "iopub.status.busy": "2021-11-06T11:10:25.849010Z",
     "iopub.status.idle": "2021-11-06T11:10:25.852577Z",
     "shell.execute_reply": "2021-11-06T11:10:25.853012Z",
     "shell.execute_reply.started": "2021-11-06T11:08:11.734636Z"
    },
    "papermill": {
     "duration": 0.105337,
     "end_time": "2021-11-06T11:10:25.853174",
     "exception": false,
     "start_time": "2021-11-06T11:10:25.747837",
     "status": "completed"
    },
    "tags": []
   },
   "outputs": [],
   "source": [
    "# from sklearn.model_selection import GridSearchCV\n",
    "# from sklearn.model_selection import KFold\n",
    "# grid = {\n",
    "#         'min_child_weight': [1, 5, 10],\n",
    "#         'gamma': [0.5, 1, 1.5, 2, 5],\n",
    "#         'subsample': [0.6, 0.8, 1.0],\n",
    "#         'colsample_bytree': [0.6, 0.8, 1.0],\n",
    "#         'max_depth': [3, 4, 5, 15],\n",
    "#         }\n",
    "# kf = KFold(n_splits=2)\n",
    "\n",
    "# gs = GridSearchCV(estimator = XGBClassifier(n_estimators=500), param_grid = grid, scoring='accuracy', n_jobs=4, cv=kf)"
   ]
  },
  {
   "cell_type": "code",
   "execution_count": 53,
   "metadata": {
    "execution": {
     "iopub.execute_input": "2021-11-06T11:10:26.057222Z",
     "iopub.status.busy": "2021-11-06T11:10:26.056271Z",
     "iopub.status.idle": "2021-11-06T11:10:26.059353Z",
     "shell.execute_reply": "2021-11-06T11:10:26.059857Z",
     "shell.execute_reply.started": "2021-11-06T11:08:11.740652Z"
    },
    "papermill": {
     "duration": 0.107216,
     "end_time": "2021-11-06T11:10:26.060051",
     "exception": false,
     "start_time": "2021-11-06T11:10:25.952835",
     "status": "completed"
    },
    "tags": []
   },
   "outputs": [],
   "source": [
    "# gs.fit(X_train, y_train)\n",
    "\n",
    "# y_pred = gs.predict(X_valid)"
   ]
  },
  {
   "cell_type": "code",
   "execution_count": 54,
   "metadata": {
    "execution": {
     "iopub.execute_input": "2021-11-06T11:10:26.264409Z",
     "iopub.status.busy": "2021-11-06T11:10:26.263508Z",
     "iopub.status.idle": "2021-11-06T11:10:26.266350Z",
     "shell.execute_reply": "2021-11-06T11:10:26.266913Z",
     "shell.execute_reply.started": "2021-11-06T11:08:11.752392Z"
    },
    "papermill": {
     "duration": 0.107417,
     "end_time": "2021-11-06T11:10:26.267087",
     "exception": false,
     "start_time": "2021-11-06T11:10:26.159670",
     "status": "completed"
    },
    "tags": []
   },
   "outputs": [],
   "source": [
    "# from sklearn.metrics import accuracy_score\n",
    "\n",
    "# accuracy = accuracy_score(y_valid, y_pred)\n",
    "# print(\"Gs Accuracy: %.2f%%\" % (accuracy * 100.0))"
   ]
  },
  {
   "cell_type": "code",
   "execution_count": 55,
   "metadata": {
    "execution": {
     "iopub.execute_input": "2021-11-06T11:10:26.470320Z",
     "iopub.status.busy": "2021-11-06T11:10:26.469699Z",
     "iopub.status.idle": "2021-11-06T11:10:26.471858Z",
     "shell.execute_reply": "2021-11-06T11:10:26.472403Z",
     "shell.execute_reply.started": "2021-11-06T11:08:11.765587Z"
    },
    "papermill": {
     "duration": 0.105806,
     "end_time": "2021-11-06T11:10:26.472606",
     "exception": false,
     "start_time": "2021-11-06T11:10:26.366800",
     "status": "completed"
    },
    "tags": []
   },
   "outputs": [],
   "source": [
    "# gs.best_estimator_"
   ]
  },
  {
   "cell_type": "code",
   "execution_count": 56,
   "metadata": {
    "execution": {
     "iopub.execute_input": "2021-11-06T11:10:26.673114Z",
     "iopub.status.busy": "2021-11-06T11:10:26.672487Z",
     "iopub.status.idle": "2021-11-06T11:10:26.751408Z",
     "shell.execute_reply": "2021-11-06T11:10:26.751933Z",
     "shell.execute_reply.started": "2021-11-06T11:08:11.777075Z"
    },
    "papermill": {
     "duration": 0.18069,
     "end_time": "2021-11-06T11:10:26.752107",
     "exception": false,
     "start_time": "2021-11-06T11:10:26.571417",
     "status": "completed"
    },
    "tags": []
   },
   "outputs": [],
   "source": [
    "from xgboost.sklearn import XGBClassifier\n",
    "\n",
    "xgb = XGBClassifier(base_score=0.5, booster='gbtree', colsample_bylevel=1,\n",
    "              colsample_bynode=1, colsample_bytree=0.8, gamma=5,\n",
    "              learning_rate=0.3, max_delta_step=0, max_depth=4,\n",
    "              min_child_weight=5, missing=1, n_estimators=500, n_jobs=4,\n",
    "              nthread=None, objective='multi:softprob', eval_metric='mlogloss', use_label_encoder=False,\n",
    "              random_state=0,reg_alpha=0, reg_lambda=1, scale_pos_weight=None, seed=None,\n",
    "              silent=None, subsample=0.8, verbosity=None)"
   ]
  },
  {
   "cell_type": "code",
   "execution_count": 57,
   "metadata": {
    "execution": {
     "iopub.execute_input": "2021-11-06T11:10:26.954326Z",
     "iopub.status.busy": "2021-11-06T11:10:26.953739Z",
     "iopub.status.idle": "2021-11-06T11:10:30.762160Z",
     "shell.execute_reply": "2021-11-06T11:10:30.762793Z",
     "shell.execute_reply.started": "2021-11-06T11:08:11.884019Z"
    },
    "papermill": {
     "duration": 3.912069,
     "end_time": "2021-11-06T11:10:30.763009",
     "exception": false,
     "start_time": "2021-11-06T11:10:26.850940",
     "status": "completed"
    },
    "tags": []
   },
   "outputs": [],
   "source": [
    "from sklearn.metrics import accuracy_score\n",
    "xgb.fit(X_train, y_train)\n",
    "\n",
    "y_pred = xgb.predict(X_valid)"
   ]
  },
  {
   "cell_type": "code",
   "execution_count": 58,
   "metadata": {
    "execution": {
     "iopub.execute_input": "2021-11-06T11:10:30.970795Z",
     "iopub.status.busy": "2021-11-06T11:10:30.970170Z",
     "iopub.status.idle": "2021-11-06T11:10:30.973851Z",
     "shell.execute_reply": "2021-11-06T11:10:30.974322Z",
     "shell.execute_reply.started": "2021-11-06T11:08:15.746318Z"
    },
    "papermill": {
     "duration": 0.10976,
     "end_time": "2021-11-06T11:10:30.974493",
     "exception": false,
     "start_time": "2021-11-06T11:10:30.864733",
     "status": "completed"
    },
    "tags": []
   },
   "outputs": [
    {
     "name": "stdout",
     "output_type": "stream",
     "text": [
      "Xgb Accuracy: 53.05%\n"
     ]
    }
   ],
   "source": [
    "accuracy = accuracy_score(y_valid, y_pred)\n",
    "print(\"Xgb Accuracy: %.2f%%\" % (accuracy * 100.0))"
   ]
  },
  {
   "cell_type": "code",
   "execution_count": 59,
   "metadata": {
    "execution": {
     "iopub.execute_input": "2021-11-06T11:10:31.177558Z",
     "iopub.status.busy": "2021-11-06T11:10:31.176637Z",
     "iopub.status.idle": "2021-11-06T11:10:31.212636Z",
     "shell.execute_reply": "2021-11-06T11:10:31.212035Z",
     "shell.execute_reply.started": "2021-11-06T11:08:15.758486Z"
    },
    "papermill": {
     "duration": 0.138636,
     "end_time": "2021-11-06T11:10:31.212771",
     "exception": false,
     "start_time": "2021-11-06T11:10:31.074135",
     "status": "completed"
    },
    "tags": []
   },
   "outputs": [
    {
     "data": {
      "text/plain": [
       "array([0.02661175, 0.14445354, 0.08410087, 0.05998418, 0.02583854,\n",
       "       0.13307418, 0.03431807, 0.03100024, 0.10103707, 0.02716789,\n",
       "       0.03560305, 0.05328003, 0.02710623, 0.11475757, 0.01834632,\n",
       "       0.02400566, 0.05931481], dtype=float32)"
      ]
     },
     "execution_count": 59,
     "metadata": {},
     "output_type": "execute_result"
    }
   ],
   "source": [
    "# Show features importances according to the model\n",
    "xgb.feature_importances_"
   ]
  },
  {
   "cell_type": "markdown",
   "metadata": {
    "papermill": {
     "duration": 0.099526,
     "end_time": "2021-11-06T11:10:31.416026",
     "exception": false,
     "start_time": "2021-11-06T11:10:31.316500",
     "status": "completed"
    },
    "tags": []
   },
   "source": [
    "## LGBMClassifier Model"
   ]
  },
  {
   "cell_type": "code",
   "execution_count": 57,
   "metadata": {
    "execution": {
     "iopub.execute_input": "2021-11-06T11:10:31.622344Z",
     "iopub.status.busy": "2021-11-06T11:10:31.621668Z",
     "iopub.status.idle": "2021-11-06T11:10:32.656736Z",
     "shell.execute_reply": "2021-11-06T11:10:32.657201Z",
     "shell.execute_reply.started": "2021-11-06T11:08:15.798280Z"
    },
    "papermill": {
     "duration": 1.140797,
     "end_time": "2021-11-06T11:10:32.657379",
     "exception": false,
     "start_time": "2021-11-06T11:10:31.516582",
     "status": "completed"
    },
    "tags": []
   },
   "outputs": [],
   "source": [
    "# Tuning the Hyperparameters(Core parameters) of LighGBM Classifier :\n",
    "from lightgbm import LGBMClassifier\n",
    "\n",
    "model = LGBMClassifier(    boosting_type='gbdt', \n",
    "                           max_depth=5, \n",
    "                           learning_rate=0.01, \n",
    "                           objective='multiclass', # Multi Class Classification\n",
    "                           n_estimators=100,\n",
    "                           n_jobs=-1 )"
   ]
  },
  {
   "cell_type": "code",
   "execution_count": 58,
   "metadata": {
    "execution": {
     "iopub.execute_input": "2021-11-06T11:10:32.863234Z",
     "iopub.status.busy": "2021-11-06T11:10:32.862619Z",
     "iopub.status.idle": "2021-11-06T11:10:33.329516Z",
     "shell.execute_reply": "2021-11-06T11:10:33.330481Z",
     "shell.execute_reply.started": "2021-11-06T11:08:16.990284Z"
    },
    "papermill": {
     "duration": 0.57313,
     "end_time": "2021-11-06T11:10:33.330698",
     "exception": false,
     "start_time": "2021-11-06T11:10:32.757568",
     "status": "completed"
    },
    "tags": []
   },
   "outputs": [
    {
     "name": "stdout",
     "output_type": "stream",
     "text": [
      "[LightGBM] [Warning] Accuracy may be bad since you didn't explicitly set num_leaves OR 2^max_depth > num_leaves. (num_leaves=31).\n",
      "[1]\tvalid_0's multi_logloss: 1.37708\n",
      "[2]\tvalid_0's multi_logloss: 1.37114\n",
      "[3]\tvalid_0's multi_logloss: 1.36535\n",
      "[4]\tvalid_0's multi_logloss: 1.35967\n",
      "[5]\tvalid_0's multi_logloss: 1.35414\n",
      "[6]\tvalid_0's multi_logloss: 1.34873\n",
      "[7]\tvalid_0's multi_logloss: 1.34349\n",
      "[8]\tvalid_0's multi_logloss: 1.33838\n",
      "[9]\tvalid_0's multi_logloss: 1.33334\n",
      "[10]\tvalid_0's multi_logloss: 1.32847\n",
      "[11]\tvalid_0's multi_logloss: 1.32368\n",
      "[12]\tvalid_0's multi_logloss: 1.31898\n",
      "[13]\tvalid_0's multi_logloss: 1.31444\n",
      "[14]\tvalid_0's multi_logloss: 1.30992\n",
      "[15]\tvalid_0's multi_logloss: 1.30556\n",
      "[16]\tvalid_0's multi_logloss: 1.30128\n",
      "[17]\tvalid_0's multi_logloss: 1.2971\n",
      "[18]\tvalid_0's multi_logloss: 1.29303\n",
      "[19]\tvalid_0's multi_logloss: 1.289\n",
      "[20]\tvalid_0's multi_logloss: 1.28506\n",
      "[21]\tvalid_0's multi_logloss: 1.28119\n",
      "[22]\tvalid_0's multi_logloss: 1.27734\n",
      "[23]\tvalid_0's multi_logloss: 1.2736\n",
      "[24]\tvalid_0's multi_logloss: 1.26995\n",
      "[25]\tvalid_0's multi_logloss: 1.26639\n",
      "[26]\tvalid_0's multi_logloss: 1.26285\n",
      "[27]\tvalid_0's multi_logloss: 1.25947\n",
      "[28]\tvalid_0's multi_logloss: 1.2561\n",
      "[29]\tvalid_0's multi_logloss: 1.25278\n",
      "[30]\tvalid_0's multi_logloss: 1.24956\n",
      "[31]\tvalid_0's multi_logloss: 1.2464\n",
      "[32]\tvalid_0's multi_logloss: 1.24323\n",
      "[33]\tvalid_0's multi_logloss: 1.2402\n",
      "[34]\tvalid_0's multi_logloss: 1.23723\n",
      "[35]\tvalid_0's multi_logloss: 1.23428\n",
      "[36]\tvalid_0's multi_logloss: 1.23143\n",
      "[37]\tvalid_0's multi_logloss: 1.2286\n",
      "[38]\tvalid_0's multi_logloss: 1.22585\n",
      "[39]\tvalid_0's multi_logloss: 1.22315\n",
      "[40]\tvalid_0's multi_logloss: 1.22052\n",
      "[41]\tvalid_0's multi_logloss: 1.21787\n",
      "[42]\tvalid_0's multi_logloss: 1.21528\n",
      "[43]\tvalid_0's multi_logloss: 1.21279\n",
      "[44]\tvalid_0's multi_logloss: 1.21032\n",
      "[45]\tvalid_0's multi_logloss: 1.20789\n",
      "[46]\tvalid_0's multi_logloss: 1.20548\n",
      "[47]\tvalid_0's multi_logloss: 1.20318\n",
      "[48]\tvalid_0's multi_logloss: 1.20091\n",
      "[49]\tvalid_0's multi_logloss: 1.19868\n",
      "[50]\tvalid_0's multi_logloss: 1.19646\n",
      "[51]\tvalid_0's multi_logloss: 1.19427\n",
      "[52]\tvalid_0's multi_logloss: 1.1922\n",
      "[53]\tvalid_0's multi_logloss: 1.19019\n",
      "[54]\tvalid_0's multi_logloss: 1.18813\n",
      "[55]\tvalid_0's multi_logloss: 1.18614\n",
      "[56]\tvalid_0's multi_logloss: 1.18417\n",
      "[57]\tvalid_0's multi_logloss: 1.18228\n",
      "[58]\tvalid_0's multi_logloss: 1.18033\n",
      "[59]\tvalid_0's multi_logloss: 1.17846\n",
      "[60]\tvalid_0's multi_logloss: 1.17669\n",
      "[61]\tvalid_0's multi_logloss: 1.17483\n",
      "[62]\tvalid_0's multi_logloss: 1.17307\n",
      "[63]\tvalid_0's multi_logloss: 1.17126\n",
      "[64]\tvalid_0's multi_logloss: 1.16957\n",
      "[65]\tvalid_0's multi_logloss: 1.16799\n",
      "[66]\tvalid_0's multi_logloss: 1.16625\n",
      "[67]\tvalid_0's multi_logloss: 1.16468\n",
      "[68]\tvalid_0's multi_logloss: 1.16312\n",
      "[69]\tvalid_0's multi_logloss: 1.16151\n",
      "[70]\tvalid_0's multi_logloss: 1.16001\n",
      "[71]\tvalid_0's multi_logloss: 1.15845\n",
      "[72]\tvalid_0's multi_logloss: 1.15689\n",
      "[73]\tvalid_0's multi_logloss: 1.15543\n",
      "[74]\tvalid_0's multi_logloss: 1.15392\n",
      "[75]\tvalid_0's multi_logloss: 1.15255\n",
      "[76]\tvalid_0's multi_logloss: 1.15111\n",
      "[77]\tvalid_0's multi_logloss: 1.14974\n",
      "[78]\tvalid_0's multi_logloss: 1.14841\n",
      "[79]\tvalid_0's multi_logloss: 1.14709\n",
      "[80]\tvalid_0's multi_logloss: 1.14568\n",
      "[81]\tvalid_0's multi_logloss: 1.14434\n",
      "[82]\tvalid_0's multi_logloss: 1.14306\n",
      "[83]\tvalid_0's multi_logloss: 1.14179\n",
      "[84]\tvalid_0's multi_logloss: 1.1406\n",
      "[85]\tvalid_0's multi_logloss: 1.13931\n",
      "[86]\tvalid_0's multi_logloss: 1.13811\n",
      "[87]\tvalid_0's multi_logloss: 1.13691\n",
      "[88]\tvalid_0's multi_logloss: 1.13573\n",
      "[89]\tvalid_0's multi_logloss: 1.13454\n",
      "[90]\tvalid_0's multi_logloss: 1.13344\n",
      "[91]\tvalid_0's multi_logloss: 1.13227\n",
      "[92]\tvalid_0's multi_logloss: 1.13117\n",
      "[93]\tvalid_0's multi_logloss: 1.1301\n",
      "[94]\tvalid_0's multi_logloss: 1.12902\n",
      "[95]\tvalid_0's multi_logloss: 1.12795\n",
      "[96]\tvalid_0's multi_logloss: 1.12695\n",
      "[97]\tvalid_0's multi_logloss: 1.12594\n",
      "[98]\tvalid_0's multi_logloss: 1.12489\n",
      "[99]\tvalid_0's multi_logloss: 1.12394\n",
      "[100]\tvalid_0's multi_logloss: 1.12299\n"
     ]
    }
   ],
   "source": [
    "Lgbm = model.fit(X_train, y_train,eval_metric='multi_logloss',eval_set=(X_valid , y_valid))\n",
    "valid_accuracy = Lgbm.score(X_valid , y_valid)"
   ]
  },
  {
   "cell_type": "code",
   "execution_count": 62,
   "metadata": {
    "execution": {
     "iopub.execute_input": "2021-11-06T11:10:33.541405Z",
     "iopub.status.busy": "2021-11-06T11:10:33.540779Z",
     "iopub.status.idle": "2021-11-06T11:10:33.543053Z",
     "shell.execute_reply": "2021-11-06T11:10:33.543514Z",
     "shell.execute_reply.started": "2021-11-06T11:08:17.455788Z"
    },
    "papermill": {
     "duration": 0.108838,
     "end_time": "2021-11-06T11:10:33.543686",
     "exception": false,
     "start_time": "2021-11-06T11:10:33.434848",
     "status": "completed"
    },
    "tags": []
   },
   "outputs": [
    {
     "name": "stdout",
     "output_type": "stream",
     "text": [
      "LGBM Accuracy: 53.00%\n"
     ]
    }
   ],
   "source": [
    "accuracy = valid_accuracy\n",
    "print(\"LGBM Accuracy: %.2f%%\" % (accuracy * 100.0))"
   ]
  },
  {
   "cell_type": "markdown",
   "metadata": {
    "papermill": {
     "duration": 0.101583,
     "end_time": "2021-11-06T11:10:33.746534",
     "exception": false,
     "start_time": "2021-11-06T11:10:33.644951",
     "status": "completed"
    },
    "tags": []
   },
   "source": [
    "## RandomForestClassifier Model"
   ]
  },
  {
   "cell_type": "code",
   "execution_count": 63,
   "metadata": {
    "execution": {
     "iopub.execute_input": "2021-11-06T11:10:33.955222Z",
     "iopub.status.busy": "2021-11-06T11:10:33.954584Z",
     "iopub.status.idle": "2021-11-06T11:10:37.372265Z",
     "shell.execute_reply": "2021-11-06T11:10:37.372843Z",
     "shell.execute_reply.started": "2021-11-06T11:08:17.464669Z"
    },
    "papermill": {
     "duration": 3.524266,
     "end_time": "2021-11-06T11:10:37.373103",
     "exception": false,
     "start_time": "2021-11-06T11:10:33.848837",
     "status": "completed"
    },
    "tags": []
   },
   "outputs": [
    {
     "name": "stdout",
     "output_type": "stream",
     "text": [
      "RF Accuracy: 49.28%\n"
     ]
    }
   ],
   "source": [
    "from sklearn.ensemble import RandomForestClassifier\n",
    "from sklearn.metrics import accuracy_score\n",
    "Rf = RandomForestClassifier(\n",
    "    max_depth=2, \n",
    "    random_state=0,\n",
    "    n_estimators=1000)\n",
    "\n",
    "Rf.fit(X_train, y_train)\n",
    "y_pred = Rf.predict(X_valid)\n",
    "\n",
    "accuracy = accuracy_score(y_valid, y_pred)\n",
    "print(\"RF Accuracy: %.2f%%\" % (accuracy * 100.0))"
   ]
  },
  {
   "cell_type": "code",
   "execution_count": null,
   "metadata": {},
   "outputs": [],
   "source": []
  }
 ],
 "metadata": {
  "kernelspec": {
   "display_name": "Python 3",
   "language": "python",
   "name": "python3"
  },
  "language_info": {
   "codemirror_mode": {
    "name": "ipython",
    "version": 3
   },
   "file_extension": ".py",
   "mimetype": "text/x-python",
   "name": "python",
   "nbconvert_exporter": "python",
   "pygments_lexer": "ipython3",
   "version": "3.8.5"
  },
  "papermill": {
   "default_parameters": {},
   "duration": 44.977236,
   "end_time": "2021-11-06T11:10:38.912615",
   "environment_variables": {},
   "exception": null,
   "input_path": "__notebook__.ipynb",
   "output_path": "__notebook__.ipynb",
   "parameters": {},
   "start_time": "2021-11-06T11:09:53.935379",
   "version": "2.3.3"
  }
 },
 "nbformat": 4,
 "nbformat_minor": 5
}
